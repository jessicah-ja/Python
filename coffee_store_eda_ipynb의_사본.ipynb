{
  "nbformat": 4,
  "nbformat_minor": 0,
  "metadata": {
    "kernelspec": {
      "display_name": "Python 3",
      "language": "python",
      "name": "python3"
    },
    "language_info": {
      "codemirror_mode": {
        "name": "ipython",
        "version": 3
      },
      "file_extension": ".py",
      "mimetype": "text/x-python",
      "name": "python",
      "nbconvert_exporter": "python",
      "pygments_lexer": "ipython3",
      "version": "3.6.1"
    },
    "varInspector": {
      "cols": {
        "lenName": 16,
        "lenType": 16,
        "lenVar": 40
      },
      "kernels_config": {
        "python": {
          "delete_cmd_postfix": "",
          "delete_cmd_prefix": "del ",
          "library": "var_list.py",
          "varRefreshCmd": "print(var_dic_list())"
        },
        "r": {
          "delete_cmd_postfix": ") ",
          "delete_cmd_prefix": "rm(",
          "library": "var_list.r",
          "varRefreshCmd": "cat(var_dic_list()) "
        }
      },
      "types_to_exclude": [
        "module",
        "function",
        "builtin_function_or_method",
        "instance",
        "_Feature"
      ],
      "window_display": false
    },
    "colab": {
      "name": "coffee-store-eda.ipynb의 사본",
      "provenance": [],
      "toc_visible": true,
      "include_colab_link": true
    }
  },
  "cells": [
    {
      "cell_type": "markdown",
      "metadata": {
        "id": "view-in-github",
        "colab_type": "text"
      },
      "source": [
        "<a href=\"https://colab.research.google.com/github/jessicah-ja/Python/blob/master/coffee_store_eda_ipynb%EC%9D%98_%EC%82%AC%EB%B3%B8.ipynb\" target=\"_parent\"><img src=\"https://colab.research.google.com/assets/colab-badge.svg\" alt=\"Open In Colab\"/></a>"
      ]
    },
    {
      "cell_type": "markdown",
      "metadata": {
        "id": "6kCILv5Fq34E",
        "colab_type": "text"
      },
      "source": [
        "# 소상공인시장진흥공단 상가업소정보로 스타벅스, 이디야 위치 분석하기\n",
        "* https://www.data.go.kr/dataset/15012005/fileData.do\n",
        "* [[비즈&빅데이터]스타벅스 '쏠림' vs 이디야 '분산'](http://news.bizwatch.co.kr/article/consumer/2018/01/19/0015)"
      ]
    },
    {
      "cell_type": "code",
      "metadata": {
        "id": "1E4uwinRq34G",
        "colab_type": "code",
        "colab": {}
      },
      "source": [
        "# warning 메시지 제거, warning 메시지는 라이브러리 업데이트나 사용법에 대한 안내 등이 있습니다.\n",
        "# 코딩을 처음 시작할 때는  warning 메시지가 나오면 당황하실 수도 있어서 제거를 하고 보도록 합니다.\n",
        "# warning 메시지는 제거하고 보셔도 되지만 Error 메시지를 꼭 고쳐주셔야 합니다.\n",
        "import warnings\n",
        "warnings.filterwarnings('ignore')"
      ],
      "execution_count": 0,
      "outputs": []
    },
    {
      "cell_type": "markdown",
      "metadata": {
        "id": "FCky7fItq34K",
        "colab_type": "text"
      },
      "source": [
        "## 필요한 라이브러리 불러오기"
      ]
    },
    {
      "cell_type": "code",
      "metadata": {
        "id": "Xv5EhtHSq34L",
        "colab_type": "code",
        "colab": {}
      },
      "source": [
        "import pandas as pd\n",
        "import numpy as np\n",
        "import seaborn as sns\n",
        "# 지도 시각화를 위해\n",
        "import folium\n",
        "\n",
        "# 노트북 안에서 그래프를 표시하기 위해\n",
        "%matplotlib inline"
      ],
      "execution_count": 0,
      "outputs": []
    },
    {
      "cell_type": "code",
      "metadata": {
        "id": "1QJn9GATq34P",
        "colab_type": "code",
        "colab": {}
      },
      "source": [
        "import matplotlib.pyplot as plt\n",
        "from IPython.display import set_matplotlib_formats\n",
        "# Window 의 한글 폰트 설정\n",
        "# plt.rc('font',family='Malgun Gothic')\n",
        "# Mac 의 한글 폰트 설정\n",
        "plt.rc('font', family='AppleGothic') \n",
        "plt.rc('axes', unicode_minus=False)\n",
        "\n",
        "set_matplotlib_formats('retina')\n",
        "\n",
        "# 그래프가 노트북 안에 보이게 하기 위해\n",
        "%matplotlib inline"
      ],
      "execution_count": 0,
      "outputs": []
    },
    {
      "cell_type": "markdown",
      "metadata": {
        "id": "MNZdeCiOq34T",
        "colab_type": "text"
      },
      "source": [
        "## Colab 에서 실행을 위한 코드\n",
        "\n",
        "* 아래의 코드는 google colaboratory 에서 실행을 위한 코드로 로컬 아나콘다에서는 주석처리합니다.\n",
        "* google colaboratory 에서는 주석을 풀고 폰트 설정과 csv 파일을 불러옵니다."
      ]
    },
    {
      "cell_type": "code",
      "metadata": {
        "id": "qZyYTBktq34U",
        "colab_type": "code",
        "colab": {
          "base_uri": "https://localhost:8080/",
          "height": 73
        },
        "outputId": "22fa6539-8c39-4b35-aa1e-a2504ea60aec"
      },
      "source": [
        "# 나눔고딕 설치\n",
        "!apt -qq -y install fonts-nanum > /dev/null\n",
        "\n",
        "import matplotlib.font_manager as fm\n",
        "\n",
        "fontpath = '/usr/share/fonts/truetype/nanum/NanumBarunGothic.ttf'\n",
        "font = fm.FontProperties(fname=fontpath, size=9)\n",
        "fm._rebuild()\n",
        "\n",
        "# 그래프에 retina display 적용\n",
        "%config InlineBackend.figure_format = 'retina'\n",
        "\n",
        "# Colab 의 한글 폰트 설정\n",
        "plt.rc('font', family='NanumBarunGothic') "
      ],
      "execution_count": 6,
      "outputs": [
        {
          "output_type": "stream",
          "text": [
            "\n",
            "WARNING: apt does not have a stable CLI interface. Use with caution in scripts.\n",
            "\n"
          ],
          "name": "stdout"
        }
      ]
    },
    {
      "cell_type": "code",
      "metadata": {
        "id": "XEMjsuRlq34X",
        "colab_type": "code",
        "colab": {}
      },
      "source": [
        "# 구글 드라이브에서 csv 파일을 읽어오기 위해 gauth 인증\n",
        "!pip install -U -q PyDrive\n",
        "from pydrive.auth import GoogleAuth\n",
        "from pydrive.drive import GoogleDrive\n",
        "from google.colab import auth\n",
        "from oauth2client.client import GoogleCredentials\n",
        "\n",
        "# PyDrive client 인증\n",
        "auth.authenticate_user()\n",
        "gauth = GoogleAuth()\n",
        "gauth.credentials = GoogleCredentials.get_application_default()\n",
        "drive = GoogleDrive(gauth)"
      ],
      "execution_count": 0,
      "outputs": []
    },
    {
      "cell_type": "code",
      "metadata": {
        "id": "cNwqnrfAq34b",
        "colab_type": "code",
        "colab": {
          "base_uri": "https://localhost:8080/",
          "height": 36
        },
        "outputId": "3a025c99-d2bb-4b2f-9cbe-8ba2a5fd4920"
      },
      "source": [
        "# 공유 가능한 링크로 파일 가져오기\n",
        "url = 'https://drive.google.com/open?id=1xvJs9ZxUHoBBAUXq1IWEaRXgcop8KjrT'\n",
        "id = url.split('=')[1]\n",
        "print(id)\n",
        "downloaded = drive.CreateFile({'id':id}) \n",
        "# data 폴더에 파일을 관리하며, 폴더가 없다면 만들어서 파일을 관리하도록 한다.\n",
        "%mkdir data\n",
        "downloaded.GetContentFile('data/store_201906_01.csv')  "
      ],
      "execution_count": 8,
      "outputs": [
        {
          "output_type": "stream",
          "text": [
            "1xvJs9ZxUHoBBAUXq1IWEaRXgcop8KjrT\n"
          ],
          "name": "stdout"
        }
      ]
    },
    {
      "cell_type": "code",
      "metadata": {
        "id": "Ukyt9fAutpZn",
        "colab_type": "code",
        "colab": {}
      },
      "source": [
        " pd.read_csv?"
      ],
      "execution_count": 0,
      "outputs": []
    },
    {
      "cell_type": "markdown",
      "metadata": {
        "id": "VXq1kP7aq34d",
        "colab_type": "text"
      },
      "source": [
        "## 데이터 불러오기\n",
        "* 데이터 다운로드 위치 : https://www.data.go.kr/dataset/15012005/fileData.do\n",
        "* 공공데이터 포털에서 소상공인시장진흥공단 상가업소정보를 다운로드 받아 사용했습니다.\n",
        "* 구글드라이브에서 받기 : https://drive.google.com/open?id=1xvJs9ZxUHoBBAUXq1IWEaRXgcop8KjrT"
      ]
    },
    {
      "cell_type": "code",
      "metadata": {
        "id": "0ETJuM-Lq34e",
        "colab_type": "code",
        "colab": {
          "base_uri": "https://localhost:8080/",
          "height": 1000
        },
        "outputId": "d15abf79-f509-40d2-95c1-217f9879c8c8"
      },
      "source": [
        "# 데이터를 불러와 df_store 라는 변수에 담아주세요.\n",
        "# df_store\n",
        "df_store = pd.read_csv(\"data/store_201906_01.csv\")\n",
        "df_store.head()"
      ],
      "execution_count": 36,
      "outputs": [
        {
          "output_type": "execute_result",
          "data": {
            "text/html": [
              "<div>\n",
              "<style scoped>\n",
              "    .dataframe tbody tr th:only-of-type {\n",
              "        vertical-align: middle;\n",
              "    }\n",
              "\n",
              "    .dataframe tbody tr th {\n",
              "        vertical-align: top;\n",
              "    }\n",
              "\n",
              "    .dataframe thead th {\n",
              "        text-align: right;\n",
              "    }\n",
              "</style>\n",
              "<table border=\"1\" class=\"dataframe\">\n",
              "  <thead>\n",
              "    <tr style=\"text-align: right;\">\n",
              "      <th></th>\n",
              "      <th>상가업소번호</th>\n",
              "      <th>상호명</th>\n",
              "      <th>지점명</th>\n",
              "      <th>상권업종대분류코드</th>\n",
              "      <th>상권업종대분류명</th>\n",
              "      <th>상권업종중분류코드</th>\n",
              "      <th>상권업종중분류명</th>\n",
              "      <th>상권업종소분류코드</th>\n",
              "      <th>상권업종소분류명</th>\n",
              "      <th>표준산업분류코드</th>\n",
              "      <th>표준산업분류명</th>\n",
              "      <th>시도코드</th>\n",
              "      <th>시도명</th>\n",
              "      <th>시군구코드</th>\n",
              "      <th>시군구명</th>\n",
              "      <th>행정동코드</th>\n",
              "      <th>행정동명</th>\n",
              "      <th>법정동코드</th>\n",
              "      <th>법정동명</th>\n",
              "      <th>지번코드</th>\n",
              "      <th>대지구분코드</th>\n",
              "      <th>대지구분명</th>\n",
              "      <th>지번본번지</th>\n",
              "      <th>지번부번지</th>\n",
              "      <th>지번주소</th>\n",
              "      <th>도로명코드</th>\n",
              "      <th>도로명</th>\n",
              "      <th>건물본번지</th>\n",
              "      <th>건물부번지</th>\n",
              "      <th>건물관리번호</th>\n",
              "      <th>건물명</th>\n",
              "      <th>도로명주소</th>\n",
              "      <th>구우편번호</th>\n",
              "      <th>신우편번호</th>\n",
              "      <th>동정보</th>\n",
              "      <th>층정보</th>\n",
              "      <th>호정보</th>\n",
              "      <th>경도</th>\n",
              "      <th>위도</th>\n",
              "    </tr>\n",
              "  </thead>\n",
              "  <tbody>\n",
              "    <tr>\n",
              "      <th>0</th>\n",
              "      <td>19911397</td>\n",
              "      <td>커피빈코리아선릉로93길점</td>\n",
              "      <td>코리아선릉로93길점</td>\n",
              "      <td>Q</td>\n",
              "      <td>음식</td>\n",
              "      <td>Q12</td>\n",
              "      <td>커피점/카페</td>\n",
              "      <td>Q12A01</td>\n",
              "      <td>커피전문점/카페/다방</td>\n",
              "      <td>I56220</td>\n",
              "      <td>비알콜 음료점업</td>\n",
              "      <td>11</td>\n",
              "      <td>서울특별시</td>\n",
              "      <td>11680</td>\n",
              "      <td>강남구</td>\n",
              "      <td>1168064000</td>\n",
              "      <td>역삼1동</td>\n",
              "      <td>1168010100</td>\n",
              "      <td>역삼동</td>\n",
              "      <td>1168010100206960042</td>\n",
              "      <td>1</td>\n",
              "      <td>대지</td>\n",
              "      <td>696</td>\n",
              "      <td>42.0</td>\n",
              "      <td>서울특별시 강남구 역삼동 696-42</td>\n",
              "      <td>116804166502</td>\n",
              "      <td>서울특별시 강남구 선릉로93길</td>\n",
              "      <td>6</td>\n",
              "      <td>NaN</td>\n",
              "      <td>1168010100106960042022041</td>\n",
              "      <td>NaN</td>\n",
              "      <td>서울특별시 강남구 선릉로93길 6</td>\n",
              "      <td>135080</td>\n",
              "      <td>6149.0</td>\n",
              "      <td>NaN</td>\n",
              "      <td>1</td>\n",
              "      <td>NaN</td>\n",
              "      <td>127.047883</td>\n",
              "      <td>37.505675</td>\n",
              "    </tr>\n",
              "    <tr>\n",
              "      <th>1</th>\n",
              "      <td>19911801</td>\n",
              "      <td>프로포즈</td>\n",
              "      <td>NaN</td>\n",
              "      <td>Q</td>\n",
              "      <td>음식</td>\n",
              "      <td>Q09</td>\n",
              "      <td>유흥주점</td>\n",
              "      <td>Q09A01</td>\n",
              "      <td>호프/맥주</td>\n",
              "      <td>I56219</td>\n",
              "      <td>기타 주점업</td>\n",
              "      <td>11</td>\n",
              "      <td>서울특별시</td>\n",
              "      <td>11545</td>\n",
              "      <td>금천구</td>\n",
              "      <td>1154563000</td>\n",
              "      <td>독산3동</td>\n",
              "      <td>1154510200</td>\n",
              "      <td>독산동</td>\n",
              "      <td>1154510200201620001</td>\n",
              "      <td>1</td>\n",
              "      <td>대지</td>\n",
              "      <td>162</td>\n",
              "      <td>1.0</td>\n",
              "      <td>서울특별시 금천구 독산동 162-1</td>\n",
              "      <td>115453117003</td>\n",
              "      <td>서울특별시 금천구 가산로</td>\n",
              "      <td>34</td>\n",
              "      <td>6.0</td>\n",
              "      <td>1154510200101620001017748</td>\n",
              "      <td>NaN</td>\n",
              "      <td>서울특별시 금천구 가산로 34-6</td>\n",
              "      <td>153010</td>\n",
              "      <td>8545.0</td>\n",
              "      <td>NaN</td>\n",
              "      <td>1</td>\n",
              "      <td>NaN</td>\n",
              "      <td>126.899220</td>\n",
              "      <td>37.471711</td>\n",
              "    </tr>\n",
              "    <tr>\n",
              "      <th>2</th>\n",
              "      <td>19912201</td>\n",
              "      <td>싱싱커피&amp;토스트</td>\n",
              "      <td>NaN</td>\n",
              "      <td>Q</td>\n",
              "      <td>음식</td>\n",
              "      <td>Q07</td>\n",
              "      <td>패스트푸드</td>\n",
              "      <td>Q07A10</td>\n",
              "      <td>토스트전문</td>\n",
              "      <td>I56192</td>\n",
              "      <td>피자, 햄버거, 샌드위치 및 유사 음식점업</td>\n",
              "      <td>26</td>\n",
              "      <td>부산광역시</td>\n",
              "      <td>26530</td>\n",
              "      <td>사상구</td>\n",
              "      <td>2653062000</td>\n",
              "      <td>괘법동</td>\n",
              "      <td>2653010400</td>\n",
              "      <td>괘법동</td>\n",
              "      <td>2653010400205780000</td>\n",
              "      <td>1</td>\n",
              "      <td>대지</td>\n",
              "      <td>578</td>\n",
              "      <td>NaN</td>\n",
              "      <td>부산광역시 사상구 괘법동 578</td>\n",
              "      <td>265303139004</td>\n",
              "      <td>부산광역시 사상구 괘감로</td>\n",
              "      <td>37</td>\n",
              "      <td>NaN</td>\n",
              "      <td>2653010400105780000002037</td>\n",
              "      <td>산업용품유통상가</td>\n",
              "      <td>부산광역시 사상구 괘감로 37</td>\n",
              "      <td>617726</td>\n",
              "      <td>46977.0</td>\n",
              "      <td>NaN</td>\n",
              "      <td>1</td>\n",
              "      <td>26</td>\n",
              "      <td>128.980455</td>\n",
              "      <td>35.159774</td>\n",
              "    </tr>\n",
              "    <tr>\n",
              "      <th>3</th>\n",
              "      <td>19905471</td>\n",
              "      <td>와라와라호프</td>\n",
              "      <td>NaN</td>\n",
              "      <td>Q</td>\n",
              "      <td>음식</td>\n",
              "      <td>Q09</td>\n",
              "      <td>유흥주점</td>\n",
              "      <td>Q09A01</td>\n",
              "      <td>호프/맥주</td>\n",
              "      <td>I56219</td>\n",
              "      <td>기타 주점업</td>\n",
              "      <td>11</td>\n",
              "      <td>서울특별시</td>\n",
              "      <td>11680</td>\n",
              "      <td>강남구</td>\n",
              "      <td>1168060000</td>\n",
              "      <td>대치1동</td>\n",
              "      <td>1168010600</td>\n",
              "      <td>대치동</td>\n",
              "      <td>1168010600206040000</td>\n",
              "      <td>1</td>\n",
              "      <td>대지</td>\n",
              "      <td>604</td>\n",
              "      <td>NaN</td>\n",
              "      <td>서울특별시 강남구 대치동 604</td>\n",
              "      <td>116802000003</td>\n",
              "      <td>서울특별시 강남구 남부순환로</td>\n",
              "      <td>2933</td>\n",
              "      <td>NaN</td>\n",
              "      <td>1168010600106040000014378</td>\n",
              "      <td>대치상가</td>\n",
              "      <td>서울특별시 강남구 남부순환로 2933</td>\n",
              "      <td>135280</td>\n",
              "      <td>6280.0</td>\n",
              "      <td>NaN</td>\n",
              "      <td>1</td>\n",
              "      <td>NaN</td>\n",
              "      <td>127.061026</td>\n",
              "      <td>37.493922</td>\n",
              "    </tr>\n",
              "    <tr>\n",
              "      <th>4</th>\n",
              "      <td>19932756</td>\n",
              "      <td>가락사우나내스낵</td>\n",
              "      <td>NaN</td>\n",
              "      <td>F</td>\n",
              "      <td>생활서비스</td>\n",
              "      <td>F09</td>\n",
              "      <td>대중목욕탕/휴게</td>\n",
              "      <td>F09A02</td>\n",
              "      <td>사우나/증기탕/온천</td>\n",
              "      <td>S96121</td>\n",
              "      <td>욕탕업</td>\n",
              "      <td>11</td>\n",
              "      <td>서울특별시</td>\n",
              "      <td>11710</td>\n",
              "      <td>송파구</td>\n",
              "      <td>1171060000</td>\n",
              "      <td>석촌동</td>\n",
              "      <td>1171010500</td>\n",
              "      <td>석촌동</td>\n",
              "      <td>1171010500202560000</td>\n",
              "      <td>1</td>\n",
              "      <td>대지</td>\n",
              "      <td>256</td>\n",
              "      <td>NaN</td>\n",
              "      <td>서울특별시 송파구 석촌동 256</td>\n",
              "      <td>117103123001</td>\n",
              "      <td>서울특별시 송파구 가락로</td>\n",
              "      <td>71</td>\n",
              "      <td>NaN</td>\n",
              "      <td>1171010500102560005010490</td>\n",
              "      <td>NaN</td>\n",
              "      <td>서울특별시 송파구 가락로 71</td>\n",
              "      <td>138846</td>\n",
              "      <td>5690.0</td>\n",
              "      <td>NaN</td>\n",
              "      <td>1</td>\n",
              "      <td>NaN</td>\n",
              "      <td>127.104071</td>\n",
              "      <td>37.500249</td>\n",
              "    </tr>\n",
              "  </tbody>\n",
              "</table>\n",
              "</div>"
            ],
            "text/plain": [
              "     상가업소번호            상호명         지점명  ...  호정보          경도         위도\n",
              "0  19911397  커피빈코리아선릉로93길점  코리아선릉로93길점  ...  NaN  127.047883  37.505675\n",
              "1  19911801           프로포즈         NaN  ...  NaN  126.899220  37.471711\n",
              "2  19912201       싱싱커피&토스트         NaN  ...   26  128.980455  35.159774\n",
              "3  19905471         와라와라호프         NaN  ...  NaN  127.061026  37.493922\n",
              "4  19932756       가락사우나내스낵         NaN  ...  NaN  127.104071  37.500249\n",
              "\n",
              "[5 rows x 39 columns]"
            ]
          },
          "metadata": {
            "tags": []
          },
          "execution_count": 36
        }
      ]
    },
    {
      "cell_type": "markdown",
      "metadata": {
        "id": "YocIPQoHq34h",
        "colab_type": "text"
      },
      "source": [
        "## 데이터 크기 보기"
      ]
    },
    {
      "cell_type": "code",
      "metadata": {
        "id": "tSPQ70Nxq34i",
        "colab_type": "code",
        "colab": {
          "base_uri": "https://localhost:8080/",
          "height": 36
        },
        "outputId": "b4d648ab-270a-4745-8a99-cb281280d0e3"
      },
      "source": [
        "# df_store.shape\n",
        "df_store.shape"
      ],
      "execution_count": 37,
      "outputs": [
        {
          "output_type": "execute_result",
          "data": {
            "text/plain": [
              "(565016, 39)"
            ]
          },
          "metadata": {
            "tags": []
          },
          "execution_count": 37
        }
      ]
    },
    {
      "cell_type": "markdown",
      "metadata": {
        "id": "wtWZFEqZq34o",
        "colab_type": "text"
      },
      "source": [
        "## info 보기"
      ]
    },
    {
      "cell_type": "code",
      "metadata": {
        "scrolled": true,
        "id": "5uFFz5hmq34p",
        "colab_type": "code",
        "colab": {
          "base_uri": "https://localhost:8080/",
          "height": 839
        },
        "outputId": "b13897c4-66f0-48e8-a364-8657746972cb"
      },
      "source": [
        "df_store.info()"
      ],
      "execution_count": 38,
      "outputs": [
        {
          "output_type": "stream",
          "text": [
            "<class 'pandas.core.frame.DataFrame'>\n",
            "RangeIndex: 565016 entries, 0 to 565015\n",
            "Data columns (total 39 columns):\n",
            "상가업소번호       565016 non-null int64\n",
            "상호명          565015 non-null object\n",
            "지점명          75524 non-null object\n",
            "상권업종대분류코드    565016 non-null object\n",
            "상권업종대분류명     565016 non-null object\n",
            "상권업종중분류코드    565016 non-null object\n",
            "상권업종중분류명     565016 non-null object\n",
            "상권업종소분류코드    565016 non-null object\n",
            "상권업종소분류명     565016 non-null object\n",
            "표준산업분류코드     532064 non-null object\n",
            "표준산업분류명      532064 non-null object\n",
            "시도코드         565016 non-null int64\n",
            "시도명          565016 non-null object\n",
            "시군구코드        565016 non-null int64\n",
            "시군구명         565016 non-null object\n",
            "행정동코드        565016 non-null int64\n",
            "행정동명         565016 non-null object\n",
            "법정동코드        565016 non-null int64\n",
            "법정동명         565016 non-null object\n",
            "지번코드         565016 non-null int64\n",
            "대지구분코드       565016 non-null int64\n",
            "대지구분명        565016 non-null object\n",
            "지번본번지        565016 non-null int64\n",
            "지번부번지        467893 non-null float64\n",
            "지번주소         565016 non-null object\n",
            "도로명코드        565016 non-null int64\n",
            "도로명          565016 non-null object\n",
            "건물본번지        565016 non-null int64\n",
            "건물부번지        70852 non-null float64\n",
            "건물관리번호       565016 non-null object\n",
            "건물명          261208 non-null object\n",
            "도로명주소        565016 non-null object\n",
            "구우편번호        565016 non-null int64\n",
            "신우편번호        565007 non-null float64\n",
            "동정보          50214 non-null object\n",
            "층정보          344553 non-null object\n",
            "호정보          83136 non-null object\n",
            "경도           565016 non-null float64\n",
            "위도           565016 non-null float64\n",
            "dtypes: float64(5), int64(11), object(23)\n",
            "memory usage: 168.1+ MB\n"
          ],
          "name": "stdout"
        }
      ]
    },
    {
      "cell_type": "markdown",
      "metadata": {
        "id": "WheIvyw-q34u",
        "colab_type": "text"
      },
      "source": [
        "## 결측치 보기"
      ]
    },
    {
      "cell_type": "code",
      "metadata": {
        "id": "wGWGnhySq34v",
        "colab_type": "code",
        "colab": {
          "base_uri": "https://localhost:8080/",
          "height": 764
        },
        "outputId": "698868f8-bdac-4a49-bed1-3d394e882356"
      },
      "source": [
        "df_store.isnull()\n",
        "df_store.isnull().sum()"
      ],
      "execution_count": 39,
      "outputs": [
        {
          "output_type": "execute_result",
          "data": {
            "text/plain": [
              "상가업소번호            0\n",
              "상호명               1\n",
              "지점명          489492\n",
              "상권업종대분류코드         0\n",
              "상권업종대분류명          0\n",
              "상권업종중분류코드         0\n",
              "상권업종중분류명          0\n",
              "상권업종소분류코드         0\n",
              "상권업종소분류명          0\n",
              "표준산업분류코드      32952\n",
              "표준산업분류명       32952\n",
              "시도코드              0\n",
              "시도명               0\n",
              "시군구코드             0\n",
              "시군구명              0\n",
              "행정동코드             0\n",
              "행정동명              0\n",
              "법정동코드             0\n",
              "법정동명              0\n",
              "지번코드              0\n",
              "대지구분코드            0\n",
              "대지구분명             0\n",
              "지번본번지             0\n",
              "지번부번지         97123\n",
              "지번주소              0\n",
              "도로명코드             0\n",
              "도로명               0\n",
              "건물본번지             0\n",
              "건물부번지        494164\n",
              "건물관리번호            0\n",
              "건물명          303808\n",
              "도로명주소             0\n",
              "구우편번호             0\n",
              "신우편번호             9\n",
              "동정보          514802\n",
              "층정보          220463\n",
              "호정보          481880\n",
              "경도                0\n",
              "위도                0\n",
              "dtype: int64"
            ]
          },
          "metadata": {
            "tags": []
          },
          "execution_count": 39
        }
      ]
    },
    {
      "cell_type": "markdown",
      "metadata": {
        "id": "56iEGetfq34y",
        "colab_type": "text"
      },
      "source": [
        "## 사용하지 않는 컬럼 제거하기"
      ]
    },
    {
      "cell_type": "code",
      "metadata": {
        "id": "uMC6O96zq34z",
        "colab_type": "code",
        "colab": {
          "base_uri": "https://localhost:8080/",
          "height": 97
        },
        "outputId": "7468e141-4283-4f23-d890-d90b8eacb593"
      },
      "source": [
        "# \n",
        "drop_columns = [\"상권업종중분류코드\", \"상권업종소분류코드\", \n",
        "                \"건물관리번호\", \"표준산업분류코드\", \"표준산업분류명\", \n",
        "                \"지번부번지\", \"층정보\", \"건물명\", \n",
        "                \"지점명\", \"건물부번지\", \"동정보\"]\n",
        "df_store[drop_columns]\n",
        "df_store[drop_columns].sample()"
      ],
      "execution_count": 40,
      "outputs": [
        {
          "output_type": "execute_result",
          "data": {
            "text/html": [
              "<div>\n",
              "<style scoped>\n",
              "    .dataframe tbody tr th:only-of-type {\n",
              "        vertical-align: middle;\n",
              "    }\n",
              "\n",
              "    .dataframe tbody tr th {\n",
              "        vertical-align: top;\n",
              "    }\n",
              "\n",
              "    .dataframe thead th {\n",
              "        text-align: right;\n",
              "    }\n",
              "</style>\n",
              "<table border=\"1\" class=\"dataframe\">\n",
              "  <thead>\n",
              "    <tr style=\"text-align: right;\">\n",
              "      <th></th>\n",
              "      <th>상권업종중분류코드</th>\n",
              "      <th>상권업종소분류코드</th>\n",
              "      <th>건물관리번호</th>\n",
              "      <th>표준산업분류코드</th>\n",
              "      <th>표준산업분류명</th>\n",
              "      <th>지번부번지</th>\n",
              "      <th>층정보</th>\n",
              "      <th>건물명</th>\n",
              "      <th>지점명</th>\n",
              "      <th>건물부번지</th>\n",
              "      <th>동정보</th>\n",
              "    </tr>\n",
              "  </thead>\n",
              "  <tbody>\n",
              "    <tr>\n",
              "      <th>504013</th>\n",
              "      <td>Q08</td>\n",
              "      <td>Q08A01</td>\n",
              "      <td>2620010200101000003015414</td>\n",
              "      <td>I56191</td>\n",
              "      <td>제과점업</td>\n",
              "      <td>3.0</td>\n",
              "      <td>NaN</td>\n",
              "      <td>NaN</td>\n",
              "      <td>NaN</td>\n",
              "      <td>NaN</td>\n",
              "      <td>NaN</td>\n",
              "    </tr>\n",
              "  </tbody>\n",
              "</table>\n",
              "</div>"
            ],
            "text/plain": [
              "       상권업종중분류코드 상권업종소분류코드                     건물관리번호  ...  지점명 건물부번지  동정보\n",
              "504013       Q08    Q08A01  2620010200101000003015414  ...  NaN   NaN  NaN\n",
              "\n",
              "[1 rows x 11 columns]"
            ]
          },
          "metadata": {
            "tags": []
          },
          "execution_count": 40
        }
      ]
    },
    {
      "cell_type": "code",
      "metadata": {
        "id": "35SuhV7pq342",
        "colab_type": "code",
        "colab": {}
      },
      "source": [
        "df_store.drop?\n",
        "df_store.drop(drop_columns, axis=1)\n",
        "df_store = df_store.drop(drop_columns, axis=1)"
      ],
      "execution_count": 0,
      "outputs": []
    },
    {
      "cell_type": "code",
      "metadata": {
        "id": "ImNlIRb7v3W6",
        "colab_type": "code",
        "colab": {
          "base_uri": "https://localhost:8080/",
          "height": 36
        },
        "outputId": "bbdbbc2a-d4cf-45d3-94c1-831735b97668"
      },
      "source": [
        "df_store.shape"
      ],
      "execution_count": 27,
      "outputs": [
        {
          "output_type": "execute_result",
          "data": {
            "text/plain": [
              "(565016, 28)"
            ]
          },
          "metadata": {
            "tags": []
          },
          "execution_count": 27
        }
      ]
    },
    {
      "cell_type": "markdown",
      "metadata": {
        "id": "abz5AFakv3Q3",
        "colab_type": "text"
      },
      "source": [
        ""
      ]
    },
    {
      "cell_type": "markdown",
      "metadata": {
        "id": "3aFQWAS5q345",
        "colab_type": "text"
      },
      "source": [
        "## 일부 컬럼만 보기"
      ]
    },
    {
      "cell_type": "code",
      "metadata": {
        "id": "AH08v7C1q346",
        "colab_type": "code",
        "colab": {
          "base_uri": "https://localhost:8080/",
          "height": 129
        },
        "outputId": "d1f56ff3-908e-40a6-8655-1c44b8ee27a1"
      },
      "source": [
        "# 상권업종대분류명 컬럼만 보기\n",
        "df_store[\"상권업종대분류명\"].head()"
      ],
      "execution_count": 43,
      "outputs": [
        {
          "output_type": "execute_result",
          "data": {
            "text/plain": [
              "0       음식\n",
              "1       음식\n",
              "2       음식\n",
              "3       음식\n",
              "4    생활서비스\n",
              "Name: 상권업종대분류명, dtype: object"
            ]
          },
          "metadata": {
            "tags": []
          },
          "execution_count": 43
        }
      ]
    },
    {
      "cell_type": "code",
      "metadata": {
        "id": "D9jtux2rq34-",
        "colab_type": "code",
        "colab": {}
      },
      "source": [
        "# 상권업종소분류명 컬럼만 보기\n"
      ],
      "execution_count": 0,
      "outputs": []
    },
    {
      "cell_type": "code",
      "metadata": {
        "id": "rNxFp-UDq35B",
        "colab_type": "code",
        "colab": {
          "base_uri": "https://localhost:8080/",
          "height": 202
        },
        "outputId": "28901cf0-1f66-42fb-8f65-f69bc63729ca"
      },
      "source": [
        "# 상권업종대분류명, 상권업종소분류명 컬럼만 보기\n",
        "df_store[[\"상권업종대분류명\", \"상권업종소분류명\"]].head()"
      ],
      "execution_count": 45,
      "outputs": [
        {
          "output_type": "execute_result",
          "data": {
            "text/html": [
              "<div>\n",
              "<style scoped>\n",
              "    .dataframe tbody tr th:only-of-type {\n",
              "        vertical-align: middle;\n",
              "    }\n",
              "\n",
              "    .dataframe tbody tr th {\n",
              "        vertical-align: top;\n",
              "    }\n",
              "\n",
              "    .dataframe thead th {\n",
              "        text-align: right;\n",
              "    }\n",
              "</style>\n",
              "<table border=\"1\" class=\"dataframe\">\n",
              "  <thead>\n",
              "    <tr style=\"text-align: right;\">\n",
              "      <th></th>\n",
              "      <th>상권업종대분류명</th>\n",
              "      <th>상권업종소분류명</th>\n",
              "    </tr>\n",
              "  </thead>\n",
              "  <tbody>\n",
              "    <tr>\n",
              "      <th>0</th>\n",
              "      <td>음식</td>\n",
              "      <td>커피전문점/카페/다방</td>\n",
              "    </tr>\n",
              "    <tr>\n",
              "      <th>1</th>\n",
              "      <td>음식</td>\n",
              "      <td>호프/맥주</td>\n",
              "    </tr>\n",
              "    <tr>\n",
              "      <th>2</th>\n",
              "      <td>음식</td>\n",
              "      <td>토스트전문</td>\n",
              "    </tr>\n",
              "    <tr>\n",
              "      <th>3</th>\n",
              "      <td>음식</td>\n",
              "      <td>호프/맥주</td>\n",
              "    </tr>\n",
              "    <tr>\n",
              "      <th>4</th>\n",
              "      <td>생활서비스</td>\n",
              "      <td>사우나/증기탕/온천</td>\n",
              "    </tr>\n",
              "  </tbody>\n",
              "</table>\n",
              "</div>"
            ],
            "text/plain": [
              "  상권업종대분류명     상권업종소분류명\n",
              "0       음식  커피전문점/카페/다방\n",
              "1       음식        호프/맥주\n",
              "2       음식        토스트전문\n",
              "3       음식        호프/맥주\n",
              "4    생활서비스   사우나/증기탕/온천"
            ]
          },
          "metadata": {
            "tags": []
          },
          "execution_count": 45
        }
      ]
    },
    {
      "cell_type": "code",
      "metadata": {
        "id": "-nO8VZc1q35F",
        "colab_type": "code",
        "colab": {}
      },
      "source": [
        "# 제거하는 방법도 있지만 사용할 컬럼만 남겨두는 방법도 있습니다.\n",
        "df_columns = ['상가업소번호', '상호명',  '상권업종대분류명', \n",
        "       '상권업종중분류명',  '상권업종소분류명', \n",
        "       '시도명', '시군구명', '행정동명', '법정동명', \n",
        "       '지번주소', '도로명코드', '도로명주소', \n",
        "       '구우편번호', '신우편번호', '경도', '위도']\n",
        "# 위에 있는 컬럼만 따로 불러옵니다.\n",
        "df_store[df_columns]\n",
        "df_store = df_store[df_columns].copy()"
      ],
      "execution_count": 0,
      "outputs": []
    },
    {
      "cell_type": "code",
      "metadata": {
        "id": "KXJ8w7qEx8mh",
        "colab_type": "code",
        "colab": {
          "base_uri": "https://localhost:8080/",
          "height": 36
        },
        "outputId": "bae6c4e5-10b7-44f3-d03e-6ecbfb8b6e24"
      },
      "source": [
        "df_store.shape"
      ],
      "execution_count": 50,
      "outputs": [
        {
          "output_type": "execute_result",
          "data": {
            "text/plain": [
              "(565016, 16)"
            ]
          },
          "metadata": {
            "tags": []
          },
          "execution_count": 50
        }
      ]
    },
    {
      "cell_type": "markdown",
      "metadata": {
        "id": "bwehxyWjq35J",
        "colab_type": "text"
      },
      "source": [
        "## 일부 텍스트가 들어가는 데이터만 가져오기"
      ]
    },
    {
      "cell_type": "code",
      "metadata": {
        "id": "LCokd0qSq35L",
        "colab_type": "code",
        "colab": {
          "base_uri": "https://localhost:8080/",
          "height": 36
        },
        "outputId": "19f43e3b-ad99-4ba5-98b5-88bc5a08f12e"
      },
      "source": [
        "# 커피라는 텍스트가 들어가는 상권업소중소분류명만 가져옵니다.\n",
        "# Pandas Series의 str.contains 기능을 사용해 가져올 수 있습니다.\n",
        "# 가져온 데이터를 coffee 라는 데이터프레임에 담아봅니다.\n",
        "df_store.columns\n",
        "df_store[\"상권업종소분류명\"].head()\n",
        "df_store[\"상권업종소분류명\"].str.contains(\"커피\")\n",
        "coffee = df_store[df_store[\"상권업종소분류명\"].str.contains(\"커피\")]\n",
        "coffee\n",
        "coffee.shape"
      ],
      "execution_count": 56,
      "outputs": [
        {
          "output_type": "execute_result",
          "data": {
            "text/plain": [
              "(23103, 16)"
            ]
          },
          "metadata": {
            "tags": []
          },
          "execution_count": 56
        }
      ]
    },
    {
      "cell_type": "code",
      "metadata": {
        "id": "yEIxtxL4q35P",
        "colab_type": "code",
        "colab": {}
      },
      "source": [
        ""
      ],
      "execution_count": 0,
      "outputs": []
    },
    {
      "cell_type": "code",
      "metadata": {
        "id": "o-6O_9zmq35Y",
        "colab_type": "code",
        "colab": {
          "base_uri": "https://localhost:8080/",
          "height": 55
        },
        "outputId": "f2d895da-861b-4600-ca90-a398a13e2903"
      },
      "source": [
        "# 상호명으로 봤을 때 커피점의 수 보기\n",
        "coffee[\"상호명\"]\n",
        "coffee[\"상호명\"].unique()"
      ],
      "execution_count": 58,
      "outputs": [
        {
          "output_type": "execute_result",
          "data": {
            "text/plain": [
              "array(['커피빈코리아선릉로93길점', '스완카페트', '왕실', ..., '놀러오시개', '뉴욕보틀', '블루빈로스터스커피'],\n",
              "      dtype=object)"
            ]
          },
          "metadata": {
            "tags": []
          },
          "execution_count": 58
        }
      ]
    },
    {
      "cell_type": "code",
      "metadata": {
        "id": "RxqQQCtxyws5",
        "colab_type": "code",
        "colab": {
          "base_uri": "https://localhost:8080/",
          "height": 36
        },
        "outputId": "d377fa7b-cb19-4599-82fb-0a710bb58c1e"
      },
      "source": [
        "coffee[\"상호명\"].nunique()"
      ],
      "execution_count": 59,
      "outputs": [
        {
          "output_type": "execute_result",
          "data": {
            "text/plain": [
              "15205"
            ]
          },
          "metadata": {
            "tags": []
          },
          "execution_count": 59
        }
      ]
    },
    {
      "cell_type": "code",
      "metadata": {
        "id": "GphfZjmbq35h",
        "colab_type": "code",
        "colab": {}
      },
      "source": [
        ""
      ],
      "execution_count": 0,
      "outputs": []
    },
    {
      "cell_type": "markdown",
      "metadata": {
        "id": "YtYluP5cq35n",
        "colab_type": "text"
      },
      "source": [
        "## 특정 상호만 가져오기\n",
        "* 여기에서는 스타벅스 상호를 가져와서 실습합니다.\n",
        "* 위에서 커피를 가져왔던 내용을 활용해 봅니다."
      ]
    },
    {
      "cell_type": "code",
      "metadata": {
        "id": "BmCZsabrq35o",
        "colab_type": "code",
        "colab": {
          "base_uri": "https://localhost:8080/",
          "height": 129
        },
        "outputId": "89aa96c1-bea3-4cec-aff7-23dae9ff7748"
      },
      "source": [
        "# 상호명을 보면 겹치는 문자가 많습니다. 스타벅스의 unique한 상호명만 가져옵니다.\n",
        "coffee[\"상호명\"].str.contains(\"스타벅스\")\n",
        "coffee[\"상호명\"].str.contains(\"스타벅스\").head()\n",
        "# 행과열을 한꺼번에 지정하고 싶을때 loc를 쓴다\n",
        "coffee.loc[coffee[\"상호명\"].str.contains(\"스타벅스\"), \"상호명\"].head()"
      ],
      "execution_count": 64,
      "outputs": [
        {
          "output_type": "execute_result",
          "data": {
            "text/plain": [
              "1219               스타벅스\n",
              "1946          스타벅스종로3가점\n",
              "2840               스타벅스\n",
              "14939    스타벅스커피여의도IFC1F\n",
              "14951              스타벅스\n",
              "Name: 상호명, dtype: object"
            ]
          },
          "metadata": {
            "tags": []
          },
          "execution_count": 64
        }
      ]
    },
    {
      "cell_type": "markdown",
      "metadata": {
        "id": "Z5lt-UpZq35r",
        "colab_type": "text"
      },
      "source": [
        "## 시도별 데이터 보기\n",
        "* 시도와 구군 데이터가 있습니다. 어느 시도의 데이터가 있는지 봅니다."
      ]
    },
    {
      "cell_type": "code",
      "metadata": {
        "scrolled": true,
        "id": "zObKllp5q35s",
        "colab_type": "code",
        "colab": {
          "base_uri": "https://localhost:8080/",
          "height": 36
        },
        "outputId": "0fde98e5-5fdd-49d7-a3d5-6d4eb799987e"
      },
      "source": [
        "# 시도에 결측치가 있는지 다시 봅니다.\n",
        "df_store[\"시도명\"]\n",
        "df_store[\"시도명\"].isnull()\n",
        "df_store[\"시도명\"].isnull().sum()"
      ],
      "execution_count": 67,
      "outputs": [
        {
          "output_type": "execute_result",
          "data": {
            "text/plain": [
              "0"
            ]
          },
          "metadata": {
            "tags": []
          },
          "execution_count": 67
        }
      ]
    },
    {
      "cell_type": "code",
      "metadata": {
        "id": "O7tF699oq35v",
        "colab_type": "code",
        "colab": {
          "base_uri": "https://localhost:8080/",
          "height": 73
        },
        "outputId": "670f875f-0286-4d53-ec29-d9601d624752"
      },
      "source": [
        "# 어떤 시도가 있는지 봅니다.\n",
        "# 다른 지역을 참고하고 싶다면 같은 폴더에 있는 다른 파일을 참고해 주세요.\n",
        "# Pandas Series의 value_counts 기능을 사용합니다.\n",
        "df_store[\"시도명\"].value_counts()"
      ],
      "execution_count": 70,
      "outputs": [
        {
          "output_type": "execute_result",
          "data": {
            "text/plain": [
              "서울특별시    401071\n",
              "부산광역시    163945\n",
              "Name: 시도명, dtype: int64"
            ]
          },
          "metadata": {
            "tags": []
          },
          "execution_count": 70
        }
      ]
    },
    {
      "cell_type": "code",
      "metadata": {
        "id": "T7FUMcKBq35x",
        "colab_type": "code",
        "colab": {
          "base_uri": "https://localhost:8080/",
          "height": 36
        },
        "outputId": "e77a0a17-5a17-4751-8483-9d32cb7f8116"
      },
      "source": [
        "# 시군구명의 unique 값만 봅니다.\n",
        "df_store[\"시도명\"].unique()"
      ],
      "execution_count": 71,
      "outputs": [
        {
          "output_type": "execute_result",
          "data": {
            "text/plain": [
              "array(['서울특별시', '부산광역시'], dtype=object)"
            ]
          },
          "metadata": {
            "tags": []
          },
          "execution_count": 71
        }
      ]
    },
    {
      "cell_type": "code",
      "metadata": {
        "id": "mIl_cM8Tq35z",
        "colab_type": "code",
        "colab": {}
      },
      "source": [
        "# coffee 데이터프레임에서 \"상권업종중분류명\" 을 봅니다. \n",
        "# Pandas Series의 value_counts 기능을 사용합니다.\n"
      ],
      "execution_count": 0,
      "outputs": []
    },
    {
      "cell_type": "code",
      "metadata": {
        "id": "25bgHxmzq351",
        "colab_type": "code",
        "colab": {}
      },
      "source": [
        "# 경도와 위도가 있습니다. 데이터를 그려봅니다.\n",
        "# Pandas의 plot.scatter 기능을 활용합니다.\n",
        "# df_store[:1000]\n"
      ],
      "execution_count": 0,
      "outputs": []
    },
    {
      "cell_type": "markdown",
      "metadata": {
        "id": "ICgHVf3Aq354",
        "colab_type": "text"
      },
      "source": [
        "## 서울만 따로 보기"
      ]
    },
    {
      "cell_type": "code",
      "metadata": {
        "id": "BsHPMUBbq354",
        "colab_type": "code",
        "colab": {}
      },
      "source": [
        "df_seoul = df_store.loc[df_store['시도명'].str.startswith('서울')].copy()\n",
        "df_seoul.shape"
      ],
      "execution_count": 0,
      "outputs": []
    },
    {
      "cell_type": "code",
      "metadata": {
        "id": "QfFUQIkaq357",
        "colab_type": "code",
        "colab": {}
      },
      "source": [
        "# df_seoul 에서 상권업종대분류명의 value_counts 를 봅니다.\n"
      ],
      "execution_count": 0,
      "outputs": []
    },
    {
      "cell_type": "code",
      "metadata": {
        "id": "nzi3jwIBq35-",
        "colab_type": "code",
        "colab": {}
      },
      "source": [
        "# describe 를 활용해 요약해 봅니다.\n",
        "# np.object를 사용하면 object 데이터의 요약도 볼 수 있습니다.\n",
        "\n"
      ],
      "execution_count": 0,
      "outputs": []
    },
    {
      "cell_type": "code",
      "metadata": {
        "id": "6Jjn-h-4q36D",
        "colab_type": "code",
        "colab": {}
      },
      "source": [
        "# include=np.number 로 수치 데이터만 요약합니다.\n",
        "# 여기에서는 위도와 경도만 불러와서 봅니다.\n"
      ],
      "execution_count": 0,
      "outputs": []
    },
    {
      "cell_type": "markdown",
      "metadata": {
        "id": "mK0s6vuIq36I",
        "colab_type": "text"
      },
      "source": [
        "### 분류별 countplot 그리기"
      ]
    },
    {
      "cell_type": "code",
      "metadata": {
        "id": "HU2Gyc5tq36I",
        "colab_type": "code",
        "colab": {}
      },
      "source": [
        "# seaborn 의 sns.countplot을 활용해서 상권업종대분류명 의 수량을 세어 막대그래프를 그려봅니다.\n",
        "\n"
      ],
      "execution_count": 0,
      "outputs": []
    },
    {
      "cell_type": "code",
      "metadata": {
        "id": "ga_y8p5Zq36N",
        "colab_type": "code",
        "colab": {}
      },
      "source": [
        "# 아래의 코드를 활용해서 음식이라는 텍스트가 들어간 데이터만 df_food 라는 데이터프레임에 저장합니다.\n",
        "# df_seoul['상권업종대분류명'].str.contains('음식')\n",
        "\n",
        "# df_food 라는 데이터프레임을 만들어 주세요."
      ],
      "execution_count": 0,
      "outputs": []
    },
    {
      "cell_type": "code",
      "metadata": {
        "scrolled": true,
        "id": "s-V1KGjaq36Q",
        "colab_type": "code",
        "colab": {}
      },
      "source": [
        "# countplot 을 그리면 해당 카테코리에 해당되는 데이터의 수를 카운트해서 시각화 합니다.\n",
        "# 상권업종중분류명 으로 countplot을 그려주세요.\n",
        "\n"
      ],
      "execution_count": 0,
      "outputs": []
    },
    {
      "cell_type": "code",
      "metadata": {
        "id": "msBBUNjjq36S",
        "colab_type": "code",
        "colab": {}
      },
      "source": [
        "# x, y축을 바꿔서 그리게 되면 위에서 글씨가 겹쳐 보이는 것을 보기 좋게 만들 수 있습니다.\n",
        "# 위 그래프의 x, y축을 바꿔주세요.\n",
        "\n"
      ],
      "execution_count": 0,
      "outputs": []
    },
    {
      "cell_type": "markdown",
      "metadata": {
        "id": "YcCQTptuq36U",
        "colab_type": "text"
      },
      "source": [
        "## 특정 업종만 가져오기"
      ]
    },
    {
      "cell_type": "code",
      "metadata": {
        "id": "rcsFpiZNq36V",
        "colab_type": "code",
        "colab": {}
      },
      "source": [
        "# 특정 업종만 가져오고 싶다면\n",
        "# df_food['상권업종중분류명'] == '패스트푸드' 를 활용해서 df_fast_food 라는 데이터 프레임을 만들어 봅니다.\n",
        "\n"
      ],
      "execution_count": 0,
      "outputs": []
    },
    {
      "cell_type": "code",
      "metadata": {
        "scrolled": true,
        "id": "OTfZjV-Jq36X",
        "colab_type": "code",
        "colab": {}
      },
      "source": [
        "# 해당 데이터에서 특정 컬럼만 가져오고 싶은데 컬럼명이 생각나지 않는다면 컬럼명만 가져와 봅니다.\n"
      ],
      "execution_count": 0,
      "outputs": []
    },
    {
      "cell_type": "code",
      "metadata": {
        "id": "24aYalomq36a",
        "colab_type": "code",
        "colab": {}
      },
      "source": [
        "# df_fast_food['상호명'] 의 unique 값만 가져옵니다.\n",
        "\n"
      ],
      "execution_count": 0,
      "outputs": []
    },
    {
      "cell_type": "markdown",
      "metadata": {
        "id": "PPv6W6Xiq36d",
        "colab_type": "text"
      },
      "source": [
        "## Folium 사용예제\n",
        "http://nbviewer.jupyter.org/github/python-visualization/folium/tree/master/examples/"
      ]
    },
    {
      "cell_type": "markdown",
      "metadata": {
        "id": "jwd7118aq36d",
        "colab_type": "text"
      },
      "source": [
        "## 스타벅스, 이디야 위치 분석\n",
        "* 상호명에서 브랜드명을 추출합니다.\n",
        "* 대소문자가 섞여 있을 수도 있기 때문에 대소문자를 변환해 줍니다.\n",
        "* 오타를 방지하기 위해 스타벅스의 영문명은 STARBUCKS, 이디야는 EDIYA 입니다."
      ]
    },
    {
      "cell_type": "code",
      "metadata": {
        "id": "sVgv2qbfq36e",
        "colab_type": "code",
        "colab": {}
      },
      "source": [
        "# 상호명_소문자라는 새로운 컬럼에 df_seoul['상호명'].str.lower()로 모든 영문자를 소문자로 만들어 저장해 주세요.\n"
      ],
      "execution_count": 0,
      "outputs": []
    },
    {
      "cell_type": "code",
      "metadata": {
        "id": "G9qndizAq36k",
        "colab_type": "code",
        "colab": {}
      },
      "source": [
        "# ediya 라는 상호가 들어가는 데이터만 가져와 주세요. 위에서 만든 상호명_소문자 컬럼을 사용합니다.\n",
        "# df_seoul['상호명_소문자']\n"
      ],
      "execution_count": 0,
      "outputs": []
    },
    {
      "cell_type": "code",
      "metadata": {
        "id": "kY8MOLThq36o",
        "colab_type": "code",
        "colab": {}
      },
      "source": [
        "# '스타벅스|starbucks'라는 상호가 들어가는 데이터만 가져와 주세요. 위에서 만든 상호명_소문자 컬럼을 사용합니다.\n",
        "# 참고로 | 연산자는 or를 의미합니다.\n",
        "\n",
        "# df_seoul['상호명_소문자']\n"
      ],
      "execution_count": 0,
      "outputs": []
    },
    {
      "cell_type": "code",
      "metadata": {
        "id": "kXkiQIy7q36w",
        "colab_type": "code",
        "colab": {}
      },
      "source": [
        "# '이디야|ediya'라는 상호가 들어가는 데이터만 가져와 주세요. 위에서 만든 상호명_소문자 컬럼을 사용합니다.\n",
        "# 참고로 | 연산자는 or를 의미합니다.\n",
        "\n"
      ],
      "execution_count": 0,
      "outputs": []
    },
    {
      "cell_type": "code",
      "metadata": {
        "id": "VwGdUqihq361",
        "colab_type": "code",
        "colab": {}
      },
      "source": [
        "# '스타벅스|starbucks|이디야|ediya 라는 상호가 들어가는 데이터만 가져와 주세요. \n",
        "# 위에서 만든 상호명_소문자 컬럼을 사용합니다.\n",
        "# 결과를 df_cafe에 저장합니다.\n",
        "\n",
        "# df_seoul['상호명_소문자']"
      ],
      "execution_count": 0,
      "outputs": []
    },
    {
      "cell_type": "code",
      "metadata": {
        "id": "tOypWJgSq367",
        "colab_type": "code",
        "colab": {}
      },
      "source": [
        "# 브랜드명 이라는 컬럼을 만듭니다.\n",
        "# 스타벅스만 가져와서 저장합니다.\n",
        "# df_cafe['상호명_소문자'].str.contains('스타벅스|starbucks')를 활용합니다.\n",
        "\n"
      ],
      "execution_count": 0,
      "outputs": []
    },
    {
      "cell_type": "code",
      "metadata": {
        "id": "ILx5cd1Aq36_",
        "colab_type": "code",
        "colab": {}
      },
      "source": [
        "# ~은 not을 의미합니다. 스타벅스가 아닌 데이터는 이디야로 넣어주어도 되지만\n",
        "# 아래 코드처럼 결측치를 이디야로 채워줘도 괜찮습니다.\n",
        "# df_cafe.loc[~df_cafe['상호명_소문자'].str.contains('스타벅스|starbucks|STARBUCKS'), '브랜드명'] = '이디야'"
      ],
      "execution_count": 0,
      "outputs": []
    },
    {
      "cell_type": "code",
      "metadata": {
        "id": "BplR-b3Mq37F",
        "colab_type": "code",
        "colab": {}
      },
      "source": [
        "# df_cafe['브랜드명'] = df_cafe['브랜드명'].fillna('이디야')"
      ],
      "execution_count": 0,
      "outputs": []
    },
    {
      "cell_type": "code",
      "metadata": {
        "id": "w1-RVNcaq37L",
        "colab_type": "code",
        "colab": {}
      },
      "source": [
        "# 혹시라도 상호명에 결측치가 있는지 확인합니다.\n",
        "# df_cafe['브랜드명'].isnull() 을 활용해서 '상호명' 이라는 컬럼을 가져옵니다.\n"
      ],
      "execution_count": 0,
      "outputs": []
    },
    {
      "cell_type": "code",
      "metadata": {
        "id": "h_lUJebSq37P",
        "colab_type": "code",
        "colab": {}
      },
      "source": [
        "# 상호명과 브랜드명이 제대로 변경되었는지 확인합니다.\n",
        "# 두 가지 컬럼을 가져옵니다.\n",
        "\n"
      ],
      "execution_count": 0,
      "outputs": []
    },
    {
      "cell_type": "code",
      "metadata": {
        "id": "71ZMS6gXq37R",
        "colab_type": "code",
        "colab": {}
      },
      "source": [
        "# 브랜드별 수량을 세어봅니다.value_counts()를 활용해 주세요.\n"
      ],
      "execution_count": 0,
      "outputs": []
    },
    {
      "cell_type": "markdown",
      "metadata": {
        "id": "tcngx6S1q37T",
        "colab_type": "text"
      },
      "source": [
        "## scatterplot\n",
        "* https://pandas.pydata.org/pandas-docs/stable/user_guide/visualization.html#scatter-plot"
      ]
    },
    {
      "cell_type": "code",
      "metadata": {
        "id": "6RTW4Sfwq37U",
        "colab_type": "code",
        "colab": {}
      },
      "source": [
        "# pandas의 scatterplot 을 그립니다.\n",
        "# 스타벅스만 그리도록 되어 있는데 해당 코드를 활용해 이디야도 그리도록 합니다.\n",
        "# ax = df_cafe[df_cafe[\"브랜드명\"] == \"스타벅스\"].plot.scatter(\n",
        "#     x=\"경도\", y=\"위도\", color=\"g\", label=\"스타벅스\")"
      ],
      "execution_count": 0,
      "outputs": []
    },
    {
      "cell_type": "code",
      "metadata": {
        "id": "UsaKVchGq37V",
        "colab_type": "code",
        "colab": {}
      },
      "source": [
        "# seaborn 을 통해 그려보세요.\n"
      ],
      "execution_count": 0,
      "outputs": []
    },
    {
      "cell_type": "code",
      "metadata": {
        "id": "QxFYbJlVq37X",
        "colab_type": "code",
        "colab": {}
      },
      "source": [
        "geo_df = df_cafe"
      ],
      "execution_count": 0,
      "outputs": []
    },
    {
      "cell_type": "code",
      "metadata": {
        "id": "y6L4h67uq37a",
        "colab_type": "code",
        "colab": {}
      },
      "source": [
        "map = folium.Map(location=[geo_df['위도'].mean(), geo_df['경도'].mean()], \n",
        "                 zoom_start=12, tiles='Stamen Toner')\n",
        "\n",
        "for n in geo_df.index:\n",
        "    # 팝업에 들어갈 텍스트를 지정해 줍니다.\n",
        "    popup_name = geo_df.loc[n, '상호명'] + ' - ' + geo_df.loc[n, '도로명주소']\n",
        "    # 브랜드명에 따라 아이콘 색상을 달리해서 찍어줍니다.\n",
        "    if geo_df.loc[n, '브랜드명'] == '스타벅스' :\n",
        "        icon_color = 'green'\n",
        "    else:\n",
        "        icon_color = 'blue'    \n",
        "        \n",
        "    # folium.CircleMarker 혹은 folium.features.CircleMarker 오류가 날 경우\n",
        "    # --> folium.vector_layer.CircleMarker 를 사용합니다.\n",
        "    folium.CircleMarker(\n",
        "        location=[geo_df.loc[n,'위도'], geo_df.loc[n, '경도']],\n",
        "        radius=3,\n",
        "        popup=popup_name,\n",
        "        color= icon_color,\n",
        "        fill=True,\n",
        "        fill_color=icon_color\n",
        "    ).add_to(map)\n",
        "\n",
        "\n",
        "map"
      ],
      "execution_count": 0,
      "outputs": []
    },
    {
      "cell_type": "markdown",
      "metadata": {
        "id": "M0AY3YVPq37i",
        "colab_type": "text"
      },
      "source": [
        "## 구별 브랜드별 점포수"
      ]
    },
    {
      "cell_type": "code",
      "metadata": {
        "id": "dDgVYxSAq37j",
        "colab_type": "code",
        "colab": {}
      },
      "source": [
        "df_cafe_brand = pd.DataFrame(\n",
        "    df_cafe.groupby(['시군구명', '브랜드명'])['상호명'].count()\n",
        ").reset_index()\n",
        "df_cafe_brand.columns = ['구', '브랜드명', '매장수']\n",
        "df_cafe_brand"
      ],
      "execution_count": 0,
      "outputs": []
    },
    {
      "cell_type": "markdown",
      "metadata": {
        "id": "hwyj-XtLq37l",
        "colab_type": "text"
      },
      "source": [
        "## 막대그래프로 시각화 하기"
      ]
    },
    {
      "cell_type": "code",
      "metadata": {
        "scrolled": true,
        "id": "7b6-LrQnq37m",
        "colab_type": "code",
        "colab": {}
      },
      "source": [
        "# sns.barplot 을 활용해 df_cafe_brand 데이터 프레임으로 그려봅니다.\n",
        "#  x='구', y='매장수', hue='브랜드명' 옵션을 사용합니다.\n",
        "\n"
      ],
      "execution_count": 0,
      "outputs": []
    },
    {
      "cell_type": "markdown",
      "metadata": {
        "id": "JlwHWHqFq37p",
        "colab_type": "text"
      },
      "source": [
        "### Pandas의 groupby 활용하기"
      ]
    },
    {
      "cell_type": "code",
      "metadata": {
        "scrolled": true,
        "id": "6ONtQzvoq37q",
        "colab_type": "code",
        "colab": {}
      },
      "source": [
        "df_cafe.groupby(['시군구명'])['상호명'].count()"
      ],
      "execution_count": 0,
      "outputs": []
    },
    {
      "cell_type": "code",
      "metadata": {
        "id": "6SXxy2Yyq37t",
        "colab_type": "code",
        "colab": {}
      },
      "source": [
        "df_cafe_gu = pd.DataFrame(df_cafe.groupby(['시군구명'])['상호명'].count())\n",
        "df_cafe_gu.head()"
      ],
      "execution_count": 0,
      "outputs": []
    },
    {
      "cell_type": "code",
      "metadata": {
        "id": "egjYjYeVq37x",
        "colab_type": "code",
        "colab": {}
      },
      "source": [
        "# df_cafe 데이터 프레임으로 시군구명, 브랜드명, 상호명 을 활용해 pivot_table 을 그립니다.\n",
        "# 기본값이 평균이기 때문에 aggfunc=\"count\" 를 지정합니다.\n",
        "# 결과는 df_cafe_brand_gu에 저장합니다."
      ],
      "execution_count": 0,
      "outputs": []
    },
    {
      "cell_type": "code",
      "metadata": {
        "id": "eEfxZfYEq370",
        "colab_type": "code",
        "colab": {}
      },
      "source": [
        "# Pandas 의 plot.bar를 그려봅니다.\n"
      ],
      "execution_count": 0,
      "outputs": []
    },
    {
      "cell_type": "markdown",
      "metadata": {
        "id": "TM9d_hHZq372",
        "colab_type": "text"
      },
      "source": [
        "## choropleth 그리기"
      ]
    },
    {
      "cell_type": "markdown",
      "metadata": {
        "id": "KTFCWq2Eq372",
        "colab_type": "text"
      },
      "source": [
        "* 구별로 매장수를 표현하기 위해 GeoJSON 파일 로드\n",
        "    * 파일출처 : [southkorea/seoul-maps: Seoul administrative divisions in ESRI Shapefile, GeoJSON and TopoJSON formats.](https://github.com/southkorea/seoul-maps)"
      ]
    },
    {
      "cell_type": "code",
      "metadata": {
        "scrolled": true,
        "id": "iMU9Umnpq373",
        "colab_type": "code",
        "colab": {}
      },
      "source": [
        "# 공유 가능한 링크로 파일 가져오기\n",
        "url = 'https://drive.google.com/open?id=13j8-_XLdPe0pptsqu8-uyE-0Ym6V2jw5'\n",
        "id = url.split('=')[1]\n",
        "print(id)\n",
        "downloaded = drive.CreateFile({'id':id}) \n",
        "# data 폴더에 파일을 관리하며, 폴더가 없다면 만들어서 파일을 관리하도록 한다.\n",
        "downloaded.GetContentFile('seoul_municipalities_geo_simple.json')  "
      ],
      "execution_count": 0,
      "outputs": []
    },
    {
      "cell_type": "code",
      "metadata": {
        "id": "cKhgnzTnq375",
        "colab_type": "code",
        "colab": {}
      },
      "source": [
        "import json\n",
        "\n",
        "geo_path = 'seoul_municipalities_geo_simple.json'\n",
        "geo_json = json.load(open(geo_path, encoding='utf-8'))"
      ],
      "execution_count": 0,
      "outputs": []
    },
    {
      "cell_type": "markdown",
      "metadata": {
        "id": "gbyoO3aqq377",
        "colab_type": "text"
      },
      "source": [
        "### 스타벅스 이디야 카페 매장 합계 분포"
      ]
    },
    {
      "cell_type": "code",
      "metadata": {
        "id": "_yVZp56zq378",
        "colab_type": "code",
        "colab": {}
      },
      "source": [
        "map = folium.Map(location=[geo_df['위도'].mean(), geo_df['경도'].mean()], \n",
        "                 zoom_start=11)\n",
        "\n",
        "map.choropleth(geo_data = geo_json,\n",
        "               data = df_cafe_gu['상호명'],\n",
        "               columns = [df_cafe_brand.index, df_cafe_gu['상호명']],\n",
        "               fill_color = 'Purples',\n",
        "               key_on = 'feature.properties.name',\n",
        "               fill_opacity=0.7,\n",
        "               line_opacity=0.2,\n",
        "               highlight=True)\n",
        "\n",
        "\n",
        "for n in geo_df.index:\n",
        "    # 팝업에 들어갈 텍스트를 지정해 줍니다.\n",
        "    popup_name = geo_df.loc[n, '상호명'] + ' - ' + geo_df.loc[n, '도로명주소']\n",
        "    # 브랜드명에 따라 아이콘 색상을 달리해서 찍어줍니다.\n",
        "    if geo_df.loc[n, '브랜드명'] == '스타벅스' :\n",
        "        icon_color = 'green'\n",
        "    else:\n",
        "        icon_color = 'blue'    \n",
        "    \n",
        "    # folium.CircleMarker 혹은 folium.features.CircleMarker 오류가 날 경우\n",
        "    # --> folium.vector_layer.CircleMarker 를 사용합니다. \n",
        "    folium.CircleMarker(\n",
        "        location=[geo_df.loc[n,'위도'], geo_df.loc[n, '경도']],\n",
        "        radius=3,\n",
        "        popup=popup_name,\n",
        "        color= icon_color,\n",
        "        fill=True,\n",
        "        fill_color=icon_color\n",
        "    ).add_to(map)\n",
        "\n",
        "map"
      ],
      "execution_count": 0,
      "outputs": []
    },
    {
      "cell_type": "markdown",
      "metadata": {
        "id": "i6MFKEQ1q38B",
        "colab_type": "text"
      },
      "source": [
        "### 스타벅스 매장 분포"
      ]
    },
    {
      "cell_type": "code",
      "metadata": {
        "id": "TZGEv_t9q38B",
        "colab_type": "code",
        "colab": {}
      },
      "source": [
        "df_cafe_temp = df_cafe[df_cafe['브랜드명'] == '스타벅스']\n",
        "df_cafe_starbucks = pd.DataFrame(df_cafe_temp.groupby(['시군구명'])['상호명'].count())\n",
        "df_cafe_starbucks.columns = ['매장수']\n",
        "df_cafe_starbucks.head()"
      ],
      "execution_count": 0,
      "outputs": []
    },
    {
      "cell_type": "code",
      "metadata": {
        "id": "BSXDfBibq38E",
        "colab_type": "code",
        "colab": {}
      },
      "source": [
        "map = folium.Map(location=[geo_df['위도'].mean(), geo_df['경도'].mean()], \n",
        "                 zoom_start=11, tiles='Stamen Toner')\n",
        "\n",
        "map.choropleth(geo_data = geo_json,\n",
        "               data = df_cafe_starbucks['매장수'],\n",
        "               columns = [df_cafe_starbucks.index, df_cafe_starbucks['매장수']],\n",
        "               fill_color = 'YlGn',\n",
        "               key_on = 'feature.properties.name',\n",
        "               fill_opacity=0.7,\n",
        "               line_opacity=0.2,\n",
        "               highlight=True)\n",
        "\n",
        "\n",
        "for n in geo_df.index:\n",
        "    # 팝업에 들어갈 텍스트를 지정해 줍니다.\n",
        "    popup_name = geo_df.loc[n, '상호명'] + ' - ' + geo_df.loc[n, '도로명주소']\n",
        "    # 브랜드명에 따라 아이콘 색상을 달리해서 찍어줍니다.\n",
        "    if geo_df.loc[n, '브랜드명'] == '스타벅스' :\n",
        "        icon_color = 'green'    \n",
        "\n",
        "            \n",
        "        # folium.CircleMarker 혹은 folium.features.CircleMarker 오류가 날 경우\n",
        "        # --> folium.vector_layer.CircleMarker 를 사용합니다.\n",
        "        folium.CircleMarker(\n",
        "            location=[geo_df.loc[n,'위도'], geo_df.loc[n, '경도']],\n",
        "            radius=3,\n",
        "            popup=popup_name,\n",
        "            color= icon_color,\n",
        "            fill=True,\n",
        "            fill_color=icon_color\n",
        "        ).add_to(map)\n",
        "\n",
        "\n",
        "map"
      ],
      "execution_count": 0,
      "outputs": []
    },
    {
      "cell_type": "markdown",
      "metadata": {
        "id": "GrtIpuulq38J",
        "colab_type": "text"
      },
      "source": [
        "### 이디야 매장 분포"
      ]
    },
    {
      "cell_type": "code",
      "metadata": {
        "id": "s5wmZ9ncq38J",
        "colab_type": "code",
        "colab": {}
      },
      "source": [
        "df_cafe_temp = df_cafe[df_cafe['브랜드명'] == '이디야']\n",
        "df_cafe_ediya = pd.DataFrame(df_cafe_temp.groupby(['시군구명'])['상호명'].count())\n",
        "df_cafe_ediya.columns = ['매장수']\n",
        "df_cafe_ediya.head()"
      ],
      "execution_count": 0,
      "outputs": []
    },
    {
      "cell_type": "code",
      "metadata": {
        "id": "PpZGCfP-q38O",
        "colab_type": "code",
        "colab": {}
      },
      "source": [
        "map = folium.Map(location=[geo_df['위도'].mean(), geo_df['경도'].mean()], \n",
        "                 zoom_start=11, tiles='Stamen Toner')\n",
        "\n",
        "map.choropleth(geo_data = geo_json,\n",
        "               data = df_cafe_ediya['매장수'],\n",
        "               columns = [df_cafe_ediya.index, df_cafe_ediya['매장수']],\n",
        "               fill_color = 'PuBu',\n",
        "               key_on = 'feature.properties.name',\n",
        "               fill_opacity=0.7,\n",
        "               line_opacity=0.2,\n",
        "               highlight=True)\n",
        "\n",
        "\n",
        "for n in geo_df.index:\n",
        "    # 팝업에 들어갈 텍스트를 지정해 줍니다.\n",
        "    popup_name = geo_df.loc[n, '상호명'] + ' - ' + geo_df.loc[n, '도로명주소']\n",
        "    # 브랜드명에 따라 아이콘 색상을 달리해서 찍어줍니다.\n",
        "    if geo_df.loc[n, '브랜드명'] == '이디야' :\n",
        "        icon_color = 'blue'    \n",
        "\n",
        "            \n",
        "        # folium.CircleMarker 혹은 folium.features.CircleMarker 오류가 날 경우\n",
        "        # --> folium.vector_layer.CircleMarker 를 사용합니다.\n",
        "        folium.CircleMarker(\n",
        "            location=[geo_df.loc[n,'위도'], geo_df.loc[n, '경도']],\n",
        "            radius=3,\n",
        "            popup=popup_name,\n",
        "            color= icon_color,\n",
        "            fill=True,\n",
        "            fill_color=icon_color\n",
        "        ).add_to(map)\n",
        "\n",
        "\n",
        "map"
      ],
      "execution_count": 0,
      "outputs": []
    },
    {
      "cell_type": "markdown",
      "metadata": {
        "id": "6lJ6hriiq38T",
        "colab_type": "text"
      },
      "source": [
        "## 매장수 크기를 반영해 CircleMaker 그리기\n",
        "### Pandas 의 reshaping data 활용하기\n",
        "\n",
        "<img src=\"https://i.imgur.com/IIhU0nF.png\">\n",
        "\n",
        "* 출처 : https://github.com/pandas-dev/pandas/blob/master/doc/cheatsheet/Pandas_Cheat_Sheet.pdf\n",
        "* reshaping 관련 문서 : https://pandas.pydata.org/pandas-docs/stable/user_guide/reshaping.html"
      ]
    },
    {
      "cell_type": "code",
      "metadata": {
        "id": "UFhR323Vq38U",
        "colab_type": "code",
        "colab": {}
      },
      "source": [
        "df_cafe_brand.head()"
      ],
      "execution_count": 0,
      "outputs": []
    },
    {
      "cell_type": "code",
      "metadata": {
        "id": "P95ataK6q38Y",
        "colab_type": "code",
        "colab": {}
      },
      "source": [
        "# 스타벅스 이디야가 컬럼으로 오도록 만듭니다.\n",
        "df_cafe_brand_vs = df_cafe_brand.pivot_table(index='구',\n",
        "                                             columns='브랜드명',\n",
        "                                             values='매장수')\n",
        "df_cafe_brand_vs.columns = ['스타벅스', '이디야']\n",
        "df_cafe_brand_vs.head()"
      ],
      "execution_count": 0,
      "outputs": []
    },
    {
      "cell_type": "code",
      "metadata": {
        "id": "vhO7PF3Mq38a",
        "colab_type": "code",
        "colab": {}
      },
      "source": [
        "# 함수를 만듭니다. \n",
        "# 스타벅스와 이디야의 매장수를 비교해서 스타벅스가 더 많다면 1을 반환 아니면 0을 반환하도록 합니다.\n",
        "# def store_count(store):"
      ],
      "execution_count": 0,
      "outputs": []
    },
    {
      "cell_type": "code",
      "metadata": {
        "id": "m3_h9FRGq38f",
        "colab_type": "code",
        "colab": {}
      },
      "source": [
        "df_cafe_brand_vs['매장수비교'] = df_cafe_brand_vs.apply(store_count, axis=1)\n",
        "df_cafe_brand_vs.head()"
      ],
      "execution_count": 0,
      "outputs": []
    },
    {
      "cell_type": "code",
      "metadata": {
        "id": "eiX8UXOLq38h",
        "colab_type": "code",
        "colab": {}
      },
      "source": [
        "# 위와 같이 표현할 수도 있지만 아래와 같이 lambda로 간결하게 표현할 수도 있습니다.\n",
        "df_cafe_brand_vs['매장수비교'] = df_cafe_brand_vs.apply( \\\n",
        "    lambda x : 1 if x['스타벅스'] > x['이디야'] else 0, axis=1)\n",
        "df_cafe_brand_vs.head()"
      ],
      "execution_count": 0,
      "outputs": []
    },
    {
      "cell_type": "markdown",
      "metadata": {
        "id": "ojc9lBMKq38j",
        "colab_type": "text"
      },
      "source": [
        "## 지도표현을 위해 구별 위경도 평균 구하기"
      ]
    },
    {
      "cell_type": "code",
      "metadata": {
        "id": "yeYc6svdq38j",
        "colab_type": "code",
        "colab": {}
      },
      "source": [
        "lng_list = []\n",
        "lat_list = []\n",
        "for gu in df_cafe_brand_vs.index:\n",
        "#     lat = 구별 평균을 구합니다.\n",
        "#     lng = 구별 평균을 구합니다.\n",
        "    lat_list.append(lat)\n",
        "    lng_list.append(lng)\n",
        "    \n",
        "# df_cafe_brand_vs['위도'] = 리스트에 저장된 값을 넣어줍니다. \n",
        "# df_cafe_brand_vs['경도'] = 리스트에 저장된 값을 넣어줍니다.\n",
        "df_cafe_brand_vs.head()"
      ],
      "execution_count": 0,
      "outputs": []
    },
    {
      "cell_type": "code",
      "metadata": {
        "id": "HkN2OP2Cq38l",
        "colab_type": "code",
        "colab": {}
      },
      "source": [
        "# CircleMarker의 radius 지정시 다음과 같은 타입오류가 나서 float type 으로 변경\n",
        "# TypeError: Object of type 'int64' is not JSON serializable\n",
        "\n",
        "df_cafe_brand_vs['스타벅스'] = df_cafe_brand_vs['스타벅스'].astype(float)\n",
        "df_cafe_brand_vs['이디야'] = df_cafe_brand_vs['이디야'].astype(float)\n",
        "df_cafe_brand_vs.info()"
      ],
      "execution_count": 0,
      "outputs": []
    },
    {
      "cell_type": "code",
      "metadata": {
        "id": "MIiyRGnaq38n",
        "colab_type": "code",
        "colab": {}
      },
      "source": [
        "map = folium.Map(location=[geo_df['위도'].mean(), geo_df['경도'].mean()], \n",
        "                 zoom_start=11, tiles='Stamen Toner')\n",
        "\n",
        "map.choropleth(geo_data = geo_json,\n",
        "               data = df_cafe_brand_vs['매장수비교'],\n",
        "               columns = [df_cafe_brand_vs.index, \n",
        "                          df_cafe_brand_vs['매장수비교']],\n",
        "               fill_color = 'BuGn',\n",
        "               key_on = 'feature.properties.name',\n",
        "               fill_opacity=0.7,\n",
        "               line_opacity=0.2,\n",
        "               highlight=True)\n",
        "\n",
        "\n",
        "for gu in df_cafe_brand_vs.index:\n",
        "        \n",
        "    for cafe in ['스타벅스', '이디야']:\n",
        "        \n",
        "        cafe_count = df_cafe_brand_vs.loc[gu, cafe]\n",
        "        msg = f'{gu} {cafe} 매장수 : {cafe_count:.0f}'\n",
        "        \n",
        "        icon_color = 'blue'\n",
        "        if cafe == '스타벅스': \n",
        "            icon_color = 'green'\n",
        "        \n",
        "        \n",
        "        # folium.CircleMarker 혹은 folium.features.CircleMarker 오류가 날 경우\n",
        "        # --> folium.vector_layer.CircleMarker 를 사용합니다.\n",
        "        folium.CircleMarker(\n",
        "            location = [df_cafe_brand_vs.loc[gu,'위도'], \n",
        "                      df_cafe_brand_vs.loc[gu, '경도']],\n",
        "            radius = cafe_count,\n",
        "            color = icon_color,\n",
        "            popup = msg,\n",
        "            fill = True,\n",
        "            fill_color = icon_color\n",
        "        ).add_to(map)\n",
        "\n",
        "map"
      ],
      "execution_count": 0,
      "outputs": []
    },
    {
      "cell_type": "markdown",
      "metadata": {
        "id": "ikvkA3sFq38p",
        "colab_type": "text"
      },
      "source": [
        "#### 지도 출력 시 색상 참고\n",
        "* http://colorbrewer2.org/"
      ]
    },
    {
      "cell_type": "markdown",
      "metadata": {
        "id": "cpQh_vFmq38p",
        "colab_type": "text"
      },
      "source": [
        "## folium 공부를 위해 더 읽어보면 좋을 것 \n",
        "* https://nbviewer.jupyter.org/github/python-visualization/folium/tree/master/examples/\n",
        "* https://python-visualization.github.io/folium/quickstart.html#Choropleth-maps\n",
        "* [PinkWink의 데이터 사이언스 관련 책 - 파이썬으로 데이터 주무르기](https://pinkwink.kr/1070)"
      ]
    },
    {
      "cell_type": "markdown",
      "metadata": {
        "id": "EEj-CZPPq38p",
        "colab_type": "text"
      },
      "source": [
        "## 카토그램 \n",
        "* [총선⑫ 인구 비례로 본 당선 지도…‘카토그램’으로 살펴본 당선 현황 > 데이터룸 > 정치 > 뉴스 | KBSNEWS](http://news.kbs.co.kr/news/view.do?ncd=3264019)\n",
        "* [The Housing Value of Every County in the U.S. - Metrocosm](http://metrocosm.com/the-housing-value-of-every-county-in-the-u-s/)"
      ]
    },
    {
      "cell_type": "code",
      "metadata": {
        "id": "OynCNex5q38s",
        "colab_type": "code",
        "colab": {}
      },
      "source": [
        ""
      ],
      "execution_count": 0,
      "outputs": []
    },
    {
      "cell_type": "code",
      "metadata": {
        "id": "H1iyOXLjq38z",
        "colab_type": "code",
        "colab": {}
      },
      "source": [
        ""
      ],
      "execution_count": 0,
      "outputs": []
    }
  ]
}