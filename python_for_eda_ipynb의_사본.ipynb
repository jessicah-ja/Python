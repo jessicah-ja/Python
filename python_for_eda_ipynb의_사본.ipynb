{
  "nbformat": 4,
  "nbformat_minor": 0,
  "metadata": {
    "kernelspec": {
      "display_name": "Python 3",
      "language": "python",
      "name": "python3"
    },
    "language_info": {
      "codemirror_mode": {
        "name": "ipython",
        "version": 3
      },
      "file_extension": ".py",
      "mimetype": "text/x-python",
      "name": "python",
      "nbconvert_exporter": "python",
      "pygments_lexer": "ipython3",
      "version": "3.6.1"
    },
    "varInspector": {
      "cols": {
        "lenName": 16,
        "lenType": 16,
        "lenVar": 40
      },
      "kernels_config": {
        "python": {
          "delete_cmd_postfix": "",
          "delete_cmd_prefix": "del ",
          "library": "var_list.py",
          "varRefreshCmd": "print(var_dic_list())"
        },
        "r": {
          "delete_cmd_postfix": ") ",
          "delete_cmd_prefix": "rm(",
          "library": "var_list.r",
          "varRefreshCmd": "cat(var_dic_list()) "
        }
      },
      "types_to_exclude": [
        "module",
        "function",
        "builtin_function_or_method",
        "instance",
        "_Feature"
      ],
      "window_display": false
    },
    "colab": {
      "name": "python-for-eda.ipynb의 사본",
      "provenance": [],
      "include_colab_link": true
    }
  },
  "cells": [
    {
      "cell_type": "markdown",
      "metadata": {
        "id": "view-in-github",
        "colab_type": "text"
      },
      "source": [
        "<a href=\"https://colab.research.google.com/github/jessicah-ja/Python/blob/master/python_for_eda_ipynb%EC%9D%98_%EC%82%AC%EB%B3%B8.ipynb\" target=\"_parent\"><img src=\"https://colab.research.google.com/assets/colab-badge.svg\" alt=\"Open In Colab\"/></a>"
      ]
    },
    {
      "cell_type": "markdown",
      "metadata": {
        "id": "cYg1EFEsTxf0",
        "colab_type": "text"
      },
      "source": [
        "[![Open In Colab](https://colab.research.google.com/assets/colab-badge.svg)](https://colab.research.google.com/github/corazzon/todaycode-hands-on/blob/master/python-for-eda.ipynb)"
      ]
    },
    {
      "cell_type": "markdown",
      "metadata": {
        "id": "2BOyCAmwTxf3",
        "colab_type": "text"
      },
      "source": [
        "* 무료로 공부할 수 있는 파이썬 온라인 자료\n",
        "* [The Python Tutorial — Python 3.7.4 documentation](https://docs.python.org/3/tutorial/index.html)\n",
        "* [점프 투 파이썬 - WikiDocs](https://wikidocs.net/book/1)\n",
        "* [강좌: 파이썬 코딩 도장](https://dojang.io/course/view.php?id=7)"
      ]
    },
    {
      "cell_type": "markdown",
      "metadata": {
        "id": "7p2ggtEdTxf8",
        "colab_type": "text"
      },
      "source": [
        "## Zen of Python"
      ]
    },
    {
      "cell_type": "code",
      "metadata": {
        "id": "oMxakDMXTxf9",
        "colab_type": "code",
        "colab": {
          "base_uri": "https://localhost:8080/",
          "height": 409
        },
        "outputId": "3424830b-9adc-41cb-984d-dd16783f0fad"
      },
      "source": [
        "import this"
      ],
      "execution_count": 1,
      "outputs": [
        {
          "output_type": "stream",
          "text": [
            "The Zen of Python, by Tim Peters\n",
            "\n",
            "Beautiful is better than ugly.\n",
            "Explicit is better than implicit.\n",
            "Simple is better than complex.\n",
            "Complex is better than complicated.\n",
            "Flat is better than nested.\n",
            "Sparse is better than dense.\n",
            "Readability counts.\n",
            "Special cases aren't special enough to break the rules.\n",
            "Although practicality beats purity.\n",
            "Errors should never pass silently.\n",
            "Unless explicitly silenced.\n",
            "In the face of ambiguity, refuse the temptation to guess.\n",
            "There should be one-- and preferably only one --obvious way to do it.\n",
            "Although that way may not be obvious at first unless you're Dutch.\n",
            "Now is better than never.\n",
            "Although never is often better than *right* now.\n",
            "If the implementation is hard to explain, it's a bad idea.\n",
            "If the implementation is easy to explain, it may be a good idea.\n",
            "Namespaces are one honking great idea -- let's do more of those!\n"
          ],
          "name": "stdout"
        }
      ]
    },
    {
      "cell_type": "markdown",
      "metadata": {
        "id": "_G5I_8rlTxgA",
        "colab_type": "text"
      },
      "source": [
        "## boolean"
      ]
    },
    {
      "cell_type": "code",
      "metadata": {
        "id": "ED8yZA-ATxgB",
        "colab_type": "code",
        "colab": {
          "base_uri": "https://localhost:8080/",
          "height": 36
        },
        "outputId": "54a03f09-0cd7-4e21-d93e-c19439f51b25"
      },
      "source": [
        "True"
      ],
      "execution_count": 2,
      "outputs": [
        {
          "output_type": "execute_result",
          "data": {
            "text/plain": [
              "True"
            ]
          },
          "metadata": {
            "tags": []
          },
          "execution_count": 2
        }
      ]
    },
    {
      "cell_type": "code",
      "metadata": {
        "id": "cC6R-Te3TxgD",
        "colab_type": "code",
        "colab": {
          "base_uri": "https://localhost:8080/",
          "height": 36
        },
        "outputId": "df82159d-4ed4-4e7e-a0f9-987d5425cc41"
      },
      "source": [
        "False"
      ],
      "execution_count": 3,
      "outputs": [
        {
          "output_type": "execute_result",
          "data": {
            "text/plain": [
              "False"
            ]
          },
          "metadata": {
            "tags": []
          },
          "execution_count": 3
        }
      ]
    },
    {
      "cell_type": "code",
      "metadata": {
        "id": "LJHOqXipTxgF",
        "colab_type": "code",
        "colab": {
          "base_uri": "https://localhost:8080/",
          "height": 36
        },
        "outputId": "97f2710f-4168-425f-d630-d0de6d766a3a"
      },
      "source": [
        "True == 1\n"
      ],
      "execution_count": 4,
      "outputs": [
        {
          "output_type": "execute_result",
          "data": {
            "text/plain": [
              "True"
            ]
          },
          "metadata": {
            "tags": []
          },
          "execution_count": 4
        }
      ]
    },
    {
      "cell_type": "code",
      "metadata": {
        "id": "Qz-65VN8TxgI",
        "colab_type": "code",
        "colab": {
          "base_uri": "https://localhost:8080/",
          "height": 36
        },
        "outputId": "24dc33f0-8a10-48c4-b969-0855b0eb144e"
      },
      "source": [
        "False == 0\n",
        "# 암시적인것보다 명시적인데 낫다. 그러므로 1, 0이 아닌 True, False로 써준다."
      ],
      "execution_count": 7,
      "outputs": [
        {
          "output_type": "execute_result",
          "data": {
            "text/plain": [
              "True"
            ]
          },
          "metadata": {
            "tags": []
          },
          "execution_count": 7
        }
      ]
    },
    {
      "cell_type": "code",
      "metadata": {
        "scrolled": true,
        "id": "bpDcyZplTxgM",
        "colab_type": "code",
        "colab": {
          "base_uri": "https://localhost:8080/",
          "height": 176
        },
        "outputId": "dcec11ab-afea-4a3a-ba4b-d52d88a65b3e"
      },
      "source": [
        "true\n",
        "# True, False 대소문자를 구분한다.\n"
      ],
      "execution_count": 6,
      "outputs": [
        {
          "output_type": "error",
          "ename": "NameError",
          "evalue": "ignored",
          "traceback": [
            "\u001b[0;31m---------------------------------------------------------------------------\u001b[0m",
            "\u001b[0;31mNameError\u001b[0m                                 Traceback (most recent call last)",
            "\u001b[0;32m<ipython-input-6-724ba28f4a9a>\u001b[0m in \u001b[0;36m<module>\u001b[0;34m()\u001b[0m\n\u001b[0;32m----> 1\u001b[0;31m \u001b[0mtrue\u001b[0m\u001b[0;34m\u001b[0m\u001b[0;34m\u001b[0m\u001b[0m\n\u001b[0m",
            "\u001b[0;31mNameError\u001b[0m: name 'true' is not defined"
          ]
        }
      ]
    },
    {
      "cell_type": "code",
      "metadata": {
        "id": "dKomHCmiTxgP",
        "colab_type": "code",
        "colab": {
          "base_uri": "https://localhost:8080/",
          "height": 36
        },
        "outputId": "97544010-20ca-45cc-ab3d-5dd154ee4f11"
      },
      "source": [
        "True == \"1\""
      ],
      "execution_count": 8,
      "outputs": [
        {
          "output_type": "execute_result",
          "data": {
            "text/plain": [
              "False"
            ]
          },
          "metadata": {
            "tags": []
          },
          "execution_count": 8
        }
      ]
    },
    {
      "cell_type": "code",
      "metadata": {
        "id": "iYPS4_DMTxgR",
        "colab_type": "code",
        "colab": {
          "base_uri": "https://localhost:8080/",
          "height": 36
        },
        "outputId": "2d2f6bff-9265-408b-bda3-9d9164e3d979"
      },
      "source": [
        "False != \"0\""
      ],
      "execution_count": 9,
      "outputs": [
        {
          "output_type": "execute_result",
          "data": {
            "text/plain": [
              "True"
            ]
          },
          "metadata": {
            "tags": []
          },
          "execution_count": 9
        }
      ]
    },
    {
      "cell_type": "code",
      "metadata": {
        "id": "etCua2EjTxgU",
        "colab_type": "code",
        "colab": {
          "base_uri": "https://localhost:8080/",
          "height": 36
        },
        "outputId": "65f6b454-4fe5-4448-983f-f9c6c8152b2f"
      },
      "source": [
        "True and True \n",
        "True and True and 1"
      ],
      "execution_count": 11,
      "outputs": [
        {
          "output_type": "execute_result",
          "data": {
            "text/plain": [
              "1"
            ]
          },
          "metadata": {
            "tags": []
          },
          "execution_count": 11
        }
      ]
    },
    {
      "cell_type": "code",
      "metadata": {
        "id": "8OSpujbPTxgX",
        "colab_type": "code",
        "colab": {
          "base_uri": "https://localhost:8080/",
          "height": 36
        },
        "outputId": "b1cdb9dd-6202-44a2-9450-2be0c1c61cfe"
      },
      "source": [
        "True and False"
      ],
      "execution_count": 12,
      "outputs": [
        {
          "output_type": "execute_result",
          "data": {
            "text/plain": [
              "False"
            ]
          },
          "metadata": {
            "tags": []
          },
          "execution_count": 12
        }
      ]
    },
    {
      "cell_type": "code",
      "metadata": {
        "id": "YxYG6315Txgc",
        "colab_type": "code",
        "colab": {
          "base_uri": "https://localhost:8080/",
          "height": 36
        },
        "outputId": "752da14f-c0a2-49be-c108-5d26aec3066a"
      },
      "source": [
        "True or False"
      ],
      "execution_count": 13,
      "outputs": [
        {
          "output_type": "execute_result",
          "data": {
            "text/plain": [
              "True"
            ]
          },
          "metadata": {
            "tags": []
          },
          "execution_count": 13
        }
      ]
    },
    {
      "cell_type": "code",
      "metadata": {
        "id": "pKY2PSBVTxgf",
        "colab_type": "code",
        "colab": {
          "base_uri": "https://localhost:8080/",
          "height": 36
        },
        "outputId": "126394a2-6497-4025-f955-8305c00b370a"
      },
      "source": [
        "False or False"
      ],
      "execution_count": 14,
      "outputs": [
        {
          "output_type": "execute_result",
          "data": {
            "text/plain": [
              "False"
            ]
          },
          "metadata": {
            "tags": []
          },
          "execution_count": 14
        }
      ]
    },
    {
      "cell_type": "code",
      "metadata": {
        "id": "z_Pa8idJXU_3",
        "colab_type": "code",
        "colab": {
          "base_uri": "https://localhost:8080/",
          "height": 36
        },
        "outputId": "49438ed6-bc72-45e5-e73b-c08a8839f16b"
      },
      "source": [
        "False and False"
      ],
      "execution_count": 15,
      "outputs": [
        {
          "output_type": "execute_result",
          "data": {
            "text/plain": [
              "False"
            ]
          },
          "metadata": {
            "tags": []
          },
          "execution_count": 15
        }
      ]
    },
    {
      "cell_type": "code",
      "metadata": {
        "id": "RghPYWlmXUql",
        "colab_type": "code",
        "colab": {}
      },
      "source": [
        ""
      ],
      "execution_count": 0,
      "outputs": []
    },
    {
      "cell_type": "markdown",
      "metadata": {
        "id": "HWvIkHXmTxgi",
        "colab_type": "text"
      },
      "source": [
        "## Strings and Lists\n",
        "* https://docs.python.org/3/tutorial/introduction.html#strings\n",
        "* https://docs.python.org/3/tutorial/introduction.html#lists"
      ]
    },
    {
      "cell_type": "code",
      "metadata": {
        "id": "KkMQfI2WTxgi",
        "colab_type": "code",
        "colab": {
          "base_uri": "https://localhost:8080/",
          "height": 36
        },
        "outputId": "f242e439-3e18-4a94-e9d1-531279736654"
      },
      "source": [
        "print(\"Hello Python!\")"
      ],
      "execution_count": 17,
      "outputs": [
        {
          "output_type": "stream",
          "text": [
            "Hello Python!\n"
          ],
          "name": "stdout"
        }
      ]
    },
    {
      "cell_type": "code",
      "metadata": {
        "id": "I6AWjmulTxgl",
        "colab_type": "code",
        "colab": {
          "base_uri": "https://localhost:8080/",
          "height": 36
        },
        "outputId": "f5dab299-baca-45ed-a3ff-739fda9ec49c"
      },
      "source": [
        "print(\"서울시 마포구\")"
      ],
      "execution_count": 18,
      "outputs": [
        {
          "output_type": "stream",
          "text": [
            "서울시 마포구\n"
          ],
          "name": "stdout"
        }
      ]
    },
    {
      "cell_type": "markdown",
      "metadata": {
        "id": "PKpY1fmlTxgo",
        "colab_type": "text"
      },
      "source": [
        "|연산자|기능|\n",
        "|--|--|\n",
        "| == | 비교연산 |\n",
        "| = | 할당연산 |"
      ]
    },
    {
      "cell_type": "code",
      "metadata": {
        "id": "XsB5vImtZPxG",
        "colab_type": "code",
        "colab": {
          "base_uri": "https://localhost:8080/",
          "height": 111
        },
        "outputId": "f4cf4e13-4c6d-4088-cdb9-404775c87170"
      },
      "source": [
        "print(\"\"\"\n",
        "서울시\n",
        "마포구\n",
        "공덕동\n",
        "\"\"\")"
      ],
      "execution_count": 25,
      "outputs": [
        {
          "output_type": "stream",
          "text": [
            "\n",
            "서울시\n",
            "마포구\n",
            "공덕동\n",
            "\n"
          ],
          "name": "stdout"
        }
      ]
    },
    {
      "cell_type": "code",
      "metadata": {
        "id": "awK2EjyvZahn",
        "colab_type": "code",
        "colab": {
          "base_uri": "https://localhost:8080/",
          "height": 36
        },
        "outputId": "612687fe-c27c-44f9-9b17-1dd54cfb1b00"
      },
      "source": [
        "5 * 'un' + 'inm'"
      ],
      "execution_count": 27,
      "outputs": [
        {
          "output_type": "execute_result",
          "data": {
            "text/plain": [
              "'unununununinm'"
            ]
          },
          "metadata": {
            "tags": []
          },
          "execution_count": 27
        }
      ]
    },
    {
      "cell_type": "code",
      "metadata": {
        "id": "U6yozhlUZsVN",
        "colab_type": "code",
        "colab": {
          "base_uri": "https://localhost:8080/",
          "height": 36
        },
        "outputId": "ba94c383-9695-4b0b-f0ba-6fe5fd9f302f"
      },
      "source": [
        "'3' + 'un'"
      ],
      "execution_count": 28,
      "outputs": [
        {
          "output_type": "execute_result",
          "data": {
            "text/plain": [
              "'3un'"
            ]
          },
          "metadata": {
            "tags": []
          },
          "execution_count": 28
        }
      ]
    },
    {
      "cell_type": "code",
      "metadata": {
        "id": "YSMQ7OP5ZwhJ",
        "colab_type": "code",
        "colab": {
          "base_uri": "https://localhost:8080/",
          "height": 36
        },
        "outputId": "661099b5-a0b2-4330-e3f5-eaa0f7ee2ed0"
      },
      "source": [
        "str(3) + 'un'"
      ],
      "execution_count": 29,
      "outputs": [
        {
          "output_type": "execute_result",
          "data": {
            "text/plain": [
              "'3un'"
            ]
          },
          "metadata": {
            "tags": []
          },
          "execution_count": 29
        }
      ]
    },
    {
      "cell_type": "code",
      "metadata": {
        "id": "jeGVcfFNXvvR",
        "colab_type": "code",
        "colab": {
          "base_uri": "https://localhost:8080/",
          "height": 36
        },
        "outputId": "69f40c84-046d-479a-9fcc-8cc0c1a4853b"
      },
      "source": [
        "TIL = \"Today I Learned\"\n",
        "TIL"
      ],
      "execution_count": 19,
      "outputs": [
        {
          "output_type": "execute_result",
          "data": {
            "text/plain": [
              "'Today I Learned'"
            ]
          },
          "metadata": {
            "tags": []
          },
          "execution_count": 19
        }
      ]
    },
    {
      "cell_type": "code",
      "metadata": {
        "id": "nG3ioHZeYB-X",
        "colab_type": "code",
        "colab": {
          "base_uri": "https://localhost:8080/",
          "height": 36
        },
        "outputId": "a7c7b2b1-bb78-4ac1-d4a3-8022140f946f"
      },
      "source": [
        "TIL.upper()"
      ],
      "execution_count": 21,
      "outputs": [
        {
          "output_type": "execute_result",
          "data": {
            "text/plain": [
              "'TODAY I LEARNED'"
            ]
          },
          "metadata": {
            "tags": []
          },
          "execution_count": 21
        }
      ]
    },
    {
      "cell_type": "markdown",
      "metadata": {
        "id": "EFlvXQ9fTxgp",
        "colab_type": "text"
      },
      "source": [
        "### strings "
      ]
    },
    {
      "cell_type": "code",
      "metadata": {
        "id": "I6PFRgqKTxgq",
        "colab_type": "code",
        "colab": {
          "base_uri": "https://localhost:8080/",
          "height": 36
        },
        "outputId": "edfdd6c7-6f2c-45d7-f04d-3a1c318c0945"
      },
      "source": [
        "TIL.lower()\n"
      ],
      "execution_count": 22,
      "outputs": [
        {
          "output_type": "execute_result",
          "data": {
            "text/plain": [
              "'today i learned'"
            ]
          },
          "metadata": {
            "tags": []
          },
          "execution_count": 22
        }
      ]
    },
    {
      "cell_type": "code",
      "metadata": {
        "id": "Kl02rb7cTxgu",
        "colab_type": "code",
        "colab": {
          "base_uri": "https://localhost:8080/",
          "height": 36
        },
        "outputId": "cec16769-0e97-4064-a07c-ba1fa0279c45"
      },
      "source": [
        "TIL.capitalize()"
      ],
      "execution_count": 23,
      "outputs": [
        {
          "output_type": "execute_result",
          "data": {
            "text/plain": [
              "'Today i learned'"
            ]
          },
          "metadata": {
            "tags": []
          },
          "execution_count": 23
        }
      ]
    },
    {
      "cell_type": "code",
      "metadata": {
        "id": "9CVNWzPQTxgx",
        "colab_type": "code",
        "colab": {
          "base_uri": "https://localhost:8080/",
          "height": 36
        },
        "outputId": "91e215c0-bc3e-4a01-a551-7608f329ba03"
      },
      "source": [
        "TIL.split()"
      ],
      "execution_count": 24,
      "outputs": [
        {
          "output_type": "execute_result",
          "data": {
            "text/plain": [
              "['Today', 'I', 'Learned']"
            ]
          },
          "metadata": {
            "tags": []
          },
          "execution_count": 24
        }
      ]
    },
    {
      "cell_type": "markdown",
      "metadata": {
        "id": "CcCccxbRTxgz",
        "colab_type": "text"
      },
      "source": [
        "### lists"
      ]
    },
    {
      "cell_type": "code",
      "metadata": {
        "id": "golw_2FFTxg0",
        "colab_type": "code",
        "colab": {
          "base_uri": "https://localhost:8080/",
          "height": 36
        },
        "outputId": "be7e5a51-788c-4e4a-c15f-fe691232efd4"
      },
      "source": [
        "[]"
      ],
      "execution_count": 30,
      "outputs": [
        {
          "output_type": "execute_result",
          "data": {
            "text/plain": [
              "[]"
            ]
          },
          "metadata": {
            "tags": []
          },
          "execution_count": 30
        }
      ]
    },
    {
      "cell_type": "code",
      "metadata": {
        "id": "P4SnGjVOTxg2",
        "colab_type": "code",
        "colab": {
          "base_uri": "https://localhost:8080/",
          "height": 36
        },
        "outputId": "fbcd7960-4164-44d4-b91d-b485e3a6895b"
      },
      "source": [
        "[\"스타벅스\", \"이디야\"]"
      ],
      "execution_count": 31,
      "outputs": [
        {
          "output_type": "execute_result",
          "data": {
            "text/plain": [
              "['스타벅스', '이디야']"
            ]
          },
          "metadata": {
            "tags": []
          },
          "execution_count": 31
        }
      ]
    },
    {
      "cell_type": "code",
      "metadata": {
        "id": "4ieBVXqiTxg9",
        "colab_type": "code",
        "colab": {
          "base_uri": "https://localhost:8080/",
          "height": 36
        },
        "outputId": "1552d9d8-2979-499f-de52-b2b9bc8ee9f8"
      },
      "source": [
        "coffee = [\"스타벅스\", \"이디야\", \"폴바셋\", \"더치앤빈\"]\n",
        "coffee\n"
      ],
      "execution_count": 36,
      "outputs": [
        {
          "output_type": "execute_result",
          "data": {
            "text/plain": [
              "['스타벅스', '이디야', '폴바셋', '더치앤빈']"
            ]
          },
          "metadata": {
            "tags": []
          },
          "execution_count": 36
        }
      ]
    },
    {
      "cell_type": "code",
      "metadata": {
        "id": "LURRy13VTxhF",
        "colab_type": "code",
        "colab": {
          "base_uri": "https://localhost:8080/",
          "height": 36
        },
        "outputId": "d485102c-acf7-4a9f-a2b2-02c5feaf9bac"
      },
      "source": [
        "# indexing\n",
        "coffee[0]"
      ],
      "execution_count": 40,
      "outputs": [
        {
          "output_type": "execute_result",
          "data": {
            "text/plain": [
              "'스타벅스'"
            ]
          },
          "metadata": {
            "tags": []
          },
          "execution_count": 40
        }
      ]
    },
    {
      "cell_type": "code",
      "metadata": {
        "id": "zadOyq21TxhH",
        "colab_type": "code",
        "colab": {
          "base_uri": "https://localhost:8080/",
          "height": 36
        },
        "outputId": "dee55092-2a90-412b-a5be-b6b8384c4849"
      },
      "source": [
        "coffee[-1]"
      ],
      "execution_count": 39,
      "outputs": [
        {
          "output_type": "execute_result",
          "data": {
            "text/plain": [
              "'더치앤빈'"
            ]
          },
          "metadata": {
            "tags": []
          },
          "execution_count": 39
        }
      ]
    },
    {
      "cell_type": "code",
      "metadata": {
        "id": "pkKRVW4VTxhJ",
        "colab_type": "code",
        "colab": {
          "base_uri": "https://localhost:8080/",
          "height": 36
        },
        "outputId": "a261b10a-4201-49a2-a91c-978c312c4ad6"
      },
      "source": [
        "# slicing\n",
        "coffee[:]"
      ],
      "execution_count": 41,
      "outputs": [
        {
          "output_type": "execute_result",
          "data": {
            "text/plain": [
              "['스타벅스', '이디야', '폴바셋', '더치앤빈']"
            ]
          },
          "metadata": {
            "tags": []
          },
          "execution_count": 41
        }
      ]
    },
    {
      "cell_type": "code",
      "metadata": {
        "id": "VqF0UVTFbNT7",
        "colab_type": "code",
        "colab": {
          "base_uri": "https://localhost:8080/",
          "height": 36
        },
        "outputId": "1e08228f-7b89-4328-90ac-57cb556b3b59"
      },
      "source": [
        "# 슬라이싱[시작인덱스:끝나는인덱스+1]\n",
        "coffee[0:3]"
      ],
      "execution_count": 43,
      "outputs": [
        {
          "output_type": "execute_result",
          "data": {
            "text/plain": [
              "['스타벅스', '이디야', '폴바셋']"
            ]
          },
          "metadata": {
            "tags": []
          },
          "execution_count": 43
        }
      ]
    },
    {
      "cell_type": "code",
      "metadata": {
        "id": "-CPphNKJbXUp",
        "colab_type": "code",
        "colab": {
          "base_uri": "https://localhost:8080/",
          "height": 36
        },
        "outputId": "15627c16-1e27-45ec-de8c-c9e9b0e77712"
      },
      "source": [
        "coffee[:3]"
      ],
      "execution_count": 44,
      "outputs": [
        {
          "output_type": "execute_result",
          "data": {
            "text/plain": [
              "['스타벅스', '이디야', '폴바셋']"
            ]
          },
          "metadata": {
            "tags": []
          },
          "execution_count": 44
        }
      ]
    },
    {
      "cell_type": "code",
      "metadata": {
        "id": "05sGXqKIbe_N",
        "colab_type": "code",
        "colab": {
          "base_uri": "https://localhost:8080/",
          "height": 36
        },
        "outputId": "2b989de6-a1ba-46a0-c847-1b805d61bfe6"
      },
      "source": [
        "# 뒤에 있는 인덱스를 생략하면 끝까지 가져옵니다.\n",
        "coffee[1:]"
      ],
      "execution_count": 45,
      "outputs": [
        {
          "output_type": "execute_result",
          "data": {
            "text/plain": [
              "['이디야', '폴바셋', '더치앤빈']"
            ]
          },
          "metadata": {
            "tags": []
          },
          "execution_count": 45
        }
      ]
    },
    {
      "cell_type": "code",
      "metadata": {
        "id": "n-x7yT6ibuVX",
        "colab_type": "code",
        "colab": {
          "base_uri": "https://localhost:8080/",
          "height": 36
        },
        "outputId": "04afad03-3123-47d0-f9fb-e94706becb0a"
      },
      "source": [
        "# 뒤에서 3개만 가져옵니다.\n",
        "coffee[-3:]"
      ],
      "execution_count": 46,
      "outputs": [
        {
          "output_type": "execute_result",
          "data": {
            "text/plain": [
              "['이디야', '폴바셋', '더치앤빈']"
            ]
          },
          "metadata": {
            "tags": []
          },
          "execution_count": 46
        }
      ]
    },
    {
      "cell_type": "code",
      "metadata": {
        "id": "Sgpl_Q00fJgV",
        "colab_type": "code",
        "colab": {
          "base_uri": "https://localhost:8080/",
          "height": 36
        },
        "outputId": "735692a9-3ab0-4017-9633-f9bbba1ef9a7"
      },
      "source": [
        "coffee[::3]"
      ],
      "execution_count": 47,
      "outputs": [
        {
          "output_type": "execute_result",
          "data": {
            "text/plain": [
              "['스타벅스', '더치앤빈']"
            ]
          },
          "metadata": {
            "tags": []
          },
          "execution_count": 47
        }
      ]
    },
    {
      "cell_type": "markdown",
      "metadata": {
        "id": "e6ltlhNMTxhP",
        "colab_type": "text"
      },
      "source": [
        "### Control Flow\n",
        "* [4. More Control Flow Tools — Python 3.7.4 documentation](https://docs.python.org/3/tutorial/controlflow.html)\n",
        "* 제어문 - 조건문, 반복문"
      ]
    },
    {
      "cell_type": "code",
      "metadata": {
        "id": "RFNKx45xTxhQ",
        "colab_type": "code",
        "colab": {
          "base_uri": "https://localhost:8080/",
          "height": 92
        },
        "outputId": "eda801a1-45d7-4459-91e8-680d41acbe1f"
      },
      "source": [
        "for c in coffee:\n",
        "  print(c)"
      ],
      "execution_count": 50,
      "outputs": [
        {
          "output_type": "stream",
          "text": [
            "스타벅스\n",
            "이디야\n",
            "폴바셋\n",
            "더치앤빈\n"
          ],
          "name": "stdout"
        }
      ]
    },
    {
      "cell_type": "code",
      "metadata": {
        "id": "YmxzX2KoTxhS",
        "colab_type": "code",
        "colab": {
          "base_uri": "https://localhost:8080/",
          "height": 92
        },
        "outputId": "0a9c6c59-0735-449a-87c8-ebb9e048d57c"
      },
      "source": [
        "for i, c in enumerate(coffee):\n",
        "  if c == \"스타벅스\":\n",
        "    print(c, i)\n",
        "  else:\n",
        "    print(\"기타\", i, c)"
      ],
      "execution_count": 53,
      "outputs": [
        {
          "output_type": "stream",
          "text": [
            "스타벅스 0\n",
            "기타 1 이디야\n",
            "기타 2 폴바셋\n",
            "기타 3 더치앤빈\n"
          ],
          "name": "stdout"
        }
      ]
    },
    {
      "cell_type": "code",
      "metadata": {
        "id": "NcMSnklhTxhU",
        "colab_type": "code",
        "colab": {
          "base_uri": "https://localhost:8080/",
          "height": 92
        },
        "outputId": "7e0b83fe-7743-466f-9159-5082ce835613"
      },
      "source": [
        "for i in range(len(coffee)):\n",
        "  print(coffee[i])"
      ],
      "execution_count": 57,
      "outputs": [
        {
          "output_type": "stream",
          "text": [
            "스타벅스\n",
            "이디야\n",
            "폴바셋\n",
            "더치앤빈\n"
          ],
          "name": "stdout"
        }
      ]
    },
    {
      "cell_type": "code",
      "metadata": {
        "id": "wou2KVt1TxhW",
        "colab_type": "code",
        "colab": {}
      },
      "source": [
        ""
      ],
      "execution_count": 0,
      "outputs": []
    },
    {
      "cell_type": "markdown",
      "metadata": {
        "id": "Zl181uOJTxhY",
        "colab_type": "text"
      },
      "source": [
        "## for\n",
        "* 스타벅스, 이디야의 위치를 지도에 표현할 때 사용합니다."
      ]
    },
    {
      "cell_type": "code",
      "metadata": {
        "id": "v_6hETfvTxhZ",
        "colab_type": "code",
        "colab": {
          "base_uri": "https://localhost:8080/",
          "height": 36
        },
        "outputId": "ca9a13df-7239-40b5-960d-c53ac7cf0812"
      },
      "source": [
        "store = [\"서울역점\", \"공덕점\", \"마포점\", \"여의도점\"]\n",
        "store"
      ],
      "execution_count": 59,
      "outputs": [
        {
          "output_type": "execute_result",
          "data": {
            "text/plain": [
              "['서울역점', '공덕점', '마포점', '여의도점']"
            ]
          },
          "metadata": {
            "tags": []
          },
          "execution_count": 59
        }
      ]
    },
    {
      "cell_type": "code",
      "metadata": {
        "scrolled": true,
        "id": "rPV0yjHNTxhb",
        "colab_type": "code",
        "colab": {
          "base_uri": "https://localhost:8080/",
          "height": 92
        },
        "outputId": "9ad28152-d6b3-4ce9-a341-f721344e6fb2"
      },
      "source": [
        "for s in store:\n",
        "  print(s)"
      ],
      "execution_count": 60,
      "outputs": [
        {
          "output_type": "stream",
          "text": [
            "서울역점\n",
            "공덕점\n",
            "마포점\n",
            "여의도점\n"
          ],
          "name": "stdout"
        }
      ]
    },
    {
      "cell_type": "code",
      "metadata": {
        "id": "8fPyjK1yTxhg",
        "colab_type": "code",
        "colab": {}
      },
      "source": [
        ""
      ],
      "execution_count": 0,
      "outputs": []
    },
    {
      "cell_type": "code",
      "metadata": {
        "id": "5KQja5iUTxhk",
        "colab_type": "code",
        "colab": {
          "base_uri": "https://localhost:8080/",
          "height": 36
        },
        "outputId": "d2d0c75d-5a15-4c31-aa11-6252768add1a"
      },
      "source": [
        "address = \"서울특별시 마포구 공덕동 백범로31길 21  서울창업허브 본관 \"\n",
        "address"
      ],
      "execution_count": 70,
      "outputs": [
        {
          "output_type": "execute_result",
          "data": {
            "text/plain": [
              "'서울특별시 마포구 공덕동 백범로31길 21  서울창업허브 본관 '"
            ]
          },
          "metadata": {
            "tags": []
          },
          "execution_count": 70
        }
      ]
    },
    {
      "cell_type": "code",
      "metadata": {
        "id": "w_JEALUETxho",
        "colab_type": "code",
        "colab": {}
      },
      "source": [
        ""
      ],
      "execution_count": 0,
      "outputs": []
    },
    {
      "cell_type": "code",
      "metadata": {
        "id": "tpE1qLsWTxht",
        "colab_type": "code",
        "colab": {
          "base_uri": "https://localhost:8080/",
          "height": 36
        },
        "outputId": "0bb3ca57-055d-4d7d-b50e-561576b0b75a"
      },
      "source": [
        "# 문자열의 길이\n",
        "len(address)"
      ],
      "execution_count": 62,
      "outputs": [
        {
          "output_type": "execute_result",
          "data": {
            "text/plain": [
              "36"
            ]
          },
          "metadata": {
            "tags": []
          },
          "execution_count": 62
        }
      ]
    },
    {
      "cell_type": "code",
      "metadata": {
        "id": "28-wQ9eYTxhw",
        "colab_type": "code",
        "colab": {
          "base_uri": "https://localhost:8080/",
          "height": 36
        },
        "outputId": "630dfc59-a85e-4447-b531-9212af3e5e7d"
      },
      "source": [
        "# 공백으로 문자열 분리\n",
        "\n",
        "addList = address.split()\n",
        "address.split()"
      ],
      "execution_count": 66,
      "outputs": [
        {
          "output_type": "execute_result",
          "data": {
            "text/plain": [
              "['서울특별시', '마포구', '공덕동', '백범로31길', '21', '서울창업허브', '본관']"
            ]
          },
          "metadata": {
            "tags": []
          },
          "execution_count": 66
        }
      ]
    },
    {
      "cell_type": "code",
      "metadata": {
        "id": "rs6eJTWwTxh2",
        "colab_type": "code",
        "colab": {
          "base_uri": "https://localhost:8080/",
          "height": 36
        },
        "outputId": "cc94ce8d-e7b0-415a-fb2a-eea8651447c9"
      },
      "source": [
        "# 리스트의 길이\n",
        "len(addList)"
      ],
      "execution_count": 67,
      "outputs": [
        {
          "output_type": "execute_result",
          "data": {
            "text/plain": [
              "7"
            ]
          },
          "metadata": {
            "tags": []
          },
          "execution_count": 67
        }
      ]
    },
    {
      "cell_type": "code",
      "metadata": {
        "id": "_hwWwtGOTxh4",
        "colab_type": "code",
        "colab": {
          "base_uri": "https://localhost:8080/",
          "height": 36
        },
        "outputId": "f3040944-c0f7-47d6-e0b8-66da368b3e1e"
      },
      "source": [
        "# 슬라이싱으로 문자 가져오기\n",
        "addList[:3]"
      ],
      "execution_count": 68,
      "outputs": [
        {
          "output_type": "execute_result",
          "data": {
            "text/plain": [
              "['서울특별시', '마포구', '공덕동']"
            ]
          },
          "metadata": {
            "tags": []
          },
          "execution_count": 68
        }
      ]
    },
    {
      "cell_type": "code",
      "metadata": {
        "id": "iaiXMpL-Txh9",
        "colab_type": "code",
        "colab": {
          "base_uri": "https://localhost:8080/",
          "height": 36
        },
        "outputId": "40db2a57-86c6-4f07-d742-0234cffbfd52"
      },
      "source": [
        "# startswith로 문자열 가져오기\n",
        "address.startswith(\"서울\")\n",
        "# 공백제거해주기\n",
        "address.strip().startswith(\"서울\")"
      ],
      "execution_count": 72,
      "outputs": [
        {
          "output_type": "execute_result",
          "data": {
            "text/plain": [
              "True"
            ]
          },
          "metadata": {
            "tags": []
          },
          "execution_count": 72
        }
      ]
    },
    {
      "cell_type": "code",
      "metadata": {
        "id": "cHhupDpqTxiD",
        "colab_type": "code",
        "colab": {}
      },
      "source": [
        ""
      ],
      "execution_count": 0,
      "outputs": []
    },
    {
      "cell_type": "code",
      "metadata": {
        "id": "YKgHvGYITxiI",
        "colab_type": "code",
        "colab": {
          "base_uri": "https://localhost:8080/",
          "height": 36
        },
        "outputId": "97878864-32d8-4246-c30b-8ab8e443d915"
      },
      "source": [
        "# 인덱싱으로 리스트의 원소 가져오기\n",
        "addList[0]\n"
      ],
      "execution_count": 73,
      "outputs": [
        {
          "output_type": "execute_result",
          "data": {
            "text/plain": [
              "'서울특별시'"
            ]
          },
          "metadata": {
            "tags": []
          },
          "execution_count": 73
        }
      ]
    },
    {
      "cell_type": "code",
      "metadata": {
        "id": "wQ1fYIOvTxiM",
        "colab_type": "code",
        "colab": {}
      },
      "source": [
        "# 인덱싱으로 리스트의 원소 가져오기\n"
      ],
      "execution_count": 0,
      "outputs": []
    },
    {
      "cell_type": "code",
      "metadata": {
        "id": "D7orhFf6TxiQ",
        "colab_type": "code",
        "colab": {
          "base_uri": "https://localhost:8080/",
          "height": 36
        },
        "outputId": "114a824d-a697-4e50-94cf-ebf5d631bd35"
      },
      "source": [
        "addList[1]"
      ],
      "execution_count": 74,
      "outputs": [
        {
          "output_type": "execute_result",
          "data": {
            "text/plain": [
              "'마포구'"
            ]
          },
          "metadata": {
            "tags": []
          },
          "execution_count": 74
        }
      ]
    },
    {
      "cell_type": "code",
      "metadata": {
        "id": "P7dFnKPaTxiV",
        "colab_type": "code",
        "colab": {
          "base_uri": "https://localhost:8080/",
          "height": 36
        },
        "outputId": "def6464c-cddd-4c5c-ad9a-24d78a63f06e"
      },
      "source": [
        "# join으로 문자열 연결하기\n",
        "\" \".join(addList)"
      ],
      "execution_count": 78,
      "outputs": [
        {
          "output_type": "execute_result",
          "data": {
            "text/plain": [
              "'서울특별시 마포구 공덕동 백범로31길 21 서울창업허브 본관'"
            ]
          },
          "metadata": {
            "tags": []
          },
          "execution_count": 78
        }
      ]
    },
    {
      "cell_type": "code",
      "metadata": {
        "id": "dfpuBuRyTxiX",
        "colab_type": "code",
        "colab": {}
      },
      "source": [
        ""
      ],
      "execution_count": 0,
      "outputs": []
    },
    {
      "cell_type": "code",
      "metadata": {
        "id": "5mXtnRuuTxic",
        "colab_type": "code",
        "colab": {}
      },
      "source": [
        ""
      ],
      "execution_count": 0,
      "outputs": []
    },
    {
      "cell_type": "code",
      "metadata": {
        "id": "kYKPpHd9Txii",
        "colab_type": "code",
        "colab": {
          "base_uri": "https://localhost:8080/",
          "height": 36
        },
        "outputId": "ba74bf9a-fb52-4b47-ed3f-e183fe96655d"
      },
      "source": [
        "numbers = [1, 2, 3]\n",
        "numbers"
      ],
      "execution_count": 79,
      "outputs": [
        {
          "output_type": "execute_result",
          "data": {
            "text/plain": [
              "[1, 2, 3]"
            ]
          },
          "metadata": {
            "tags": []
          },
          "execution_count": 79
        }
      ]
    },
    {
      "cell_type": "code",
      "metadata": {
        "id": "NbKM1jD4Txix",
        "colab_type": "code",
        "colab": {
          "base_uri": "https://localhost:8080/",
          "height": 36
        },
        "outputId": "29536670-2959-43a1-9e81-6f2a6ce5dcbb"
      },
      "source": [
        "# append 로 원소 추가하기\n",
        "numbers.append(numbers)\n",
        "numbers"
      ],
      "execution_count": 80,
      "outputs": [
        {
          "output_type": "execute_result",
          "data": {
            "text/plain": [
              "[1, 2, 3, [...]]"
            ]
          },
          "metadata": {
            "tags": []
          },
          "execution_count": 80
        }
      ]
    },
    {
      "cell_type": "code",
      "metadata": {
        "id": "1fmyGa6dTxi2",
        "colab_type": "code",
        "colab": {
          "base_uri": "https://localhost:8080/",
          "height": 36
        },
        "outputId": "72ed85d5-af36-432b-f28c-f787fa44587e"
      },
      "source": [
        "# extend 와 append 의 차이\n",
        "numbers.extend(numbers)\n",
        "numbers"
      ],
      "execution_count": 81,
      "outputs": [
        {
          "output_type": "execute_result",
          "data": {
            "text/plain": [
              "[1, 2, 3, [...], 1, 2, 3, [...]]"
            ]
          },
          "metadata": {
            "tags": []
          },
          "execution_count": 81
        }
      ]
    },
    {
      "cell_type": "markdown",
      "metadata": {
        "id": "j7WEB2U_Txi8",
        "colab_type": "text"
      },
      "source": [
        "## Dictionaries\n",
        "* https://docs.python.org/3/tutorial/datastructures.html#dictionaries"
      ]
    },
    {
      "cell_type": "code",
      "metadata": {
        "id": "vAGGHwxtTxi-",
        "colab_type": "code",
        "colab": {
          "base_uri": "https://localhost:8080/",
          "height": 36
        },
        "outputId": "77685c34-8e0c-464e-9f4e-cb27971b0d10"
      },
      "source": [
        "# dict 자료형 - key:value\n",
        "weekday_map = {0:'월', 1:'화', 2:'수', 3:'목',\n",
        "              4:'금', 5:'토', 6:'일'}\n",
        "weekday_map"
      ],
      "execution_count": 82,
      "outputs": [
        {
          "output_type": "execute_result",
          "data": {
            "text/plain": [
              "{0: '월', 1: '화', 2: '수', 3: '목', 4: '금', 5: '토', 6: '일'}"
            ]
          },
          "metadata": {
            "tags": []
          },
          "execution_count": 82
        }
      ]
    },
    {
      "cell_type": "code",
      "metadata": {
        "id": "o_cgOqI0TxjD",
        "colab_type": "code",
        "colab": {
          "base_uri": "https://localhost:8080/",
          "height": 36
        },
        "outputId": "065acfa7-d962-4266-9951-e03f400af39e"
      },
      "source": [
        "# 인덱싱\n",
        "weekday_map[0]"
      ],
      "execution_count": 83,
      "outputs": [
        {
          "output_type": "execute_result",
          "data": {
            "text/plain": [
              "'월'"
            ]
          },
          "metadata": {
            "tags": []
          },
          "execution_count": 83
        }
      ]
    },
    {
      "cell_type": "code",
      "metadata": {
        "id": "Uqe5kDYYTxjG",
        "colab_type": "code",
        "colab": {
          "base_uri": "https://localhost:8080/",
          "height": 36
        },
        "outputId": "52b194a3-3c4f-4625-8ee8-f9d090dd7de8"
      },
      "source": [
        "# 길이\n",
        "len(weekday_map)"
      ],
      "execution_count": 84,
      "outputs": [
        {
          "output_type": "execute_result",
          "data": {
            "text/plain": [
              "7"
            ]
          },
          "metadata": {
            "tags": []
          },
          "execution_count": 84
        }
      ]
    },
    {
      "cell_type": "code",
      "metadata": {
        "id": "txpGTq8-TxjI",
        "colab_type": "code",
        "colab": {
          "base_uri": "https://localhost:8080/",
          "height": 148
        },
        "outputId": "e4963644-c33c-4236-d832-c7edb49b7682"
      },
      "source": [
        "# 요일 문자로 만들기\n",
        "# for day in weekday_map:\n",
        "for day in weekday_map:\n",
        "  print(weekday_map[day])"
      ],
      "execution_count": 85,
      "outputs": [
        {
          "output_type": "stream",
          "text": [
            "월\n",
            "화\n",
            "수\n",
            "목\n",
            "금\n",
            "토\n",
            "일\n"
          ],
          "name": "stdout"
        }
      ]
    },
    {
      "cell_type": "code",
      "metadata": {
        "id": "9Ec7ttexTxjT",
        "colab_type": "code",
        "colab": {
          "base_uri": "https://localhost:8080/",
          "height": 148
        },
        "outputId": "9cbd466f-10a1-4d66-de24-ed1def757d99"
      },
      "source": [
        "# 요일 문자로 변환하기\n",
        "# for i in range(7):\n",
        "for i in range(7):\n",
        "  print(weekday_map[i])"
      ],
      "execution_count": 86,
      "outputs": [
        {
          "output_type": "stream",
          "text": [
            "월\n",
            "화\n",
            "수\n",
            "목\n",
            "금\n",
            "토\n",
            "일\n"
          ],
          "name": "stdout"
        }
      ]
    },
    {
      "cell_type": "markdown",
      "metadata": {
        "id": "lHyA5L-0TxjX",
        "colab_type": "text"
      },
      "source": [
        "## Pandas\n",
        "* https://pandas.pydata.org/\n",
        "* https://pandas.pydata.org/Pandas_Cheat_Sheet.pdf\n",
        "* [10 minutes to pandas — pandas 0.25.0 documentation](https://pandas.pydata.org/pandas-docs/stable/getting_started/10min.html)\n",
        "* [Pandas 10분 완성](https://dataitgirls2.github.io/10minutes2pandas/)"
      ]
    },
    {
      "cell_type": "code",
      "metadata": {
        "id": "dEFjyewFTxjj",
        "colab_type": "code",
        "colab": {}
      },
      "source": [
        "import pandas as pd"
      ],
      "execution_count": 0,
      "outputs": []
    },
    {
      "cell_type": "code",
      "metadata": {
        "id": "AAvbf7aCTxjn",
        "colab_type": "code",
        "colab": {}
      },
      "source": [
        ""
      ],
      "execution_count": 0,
      "outputs": []
    }
  ]
}